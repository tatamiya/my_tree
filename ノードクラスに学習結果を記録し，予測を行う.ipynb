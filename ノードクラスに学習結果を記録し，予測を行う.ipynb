{
 "cells": [
  {
   "cell_type": "code",
   "execution_count": 2,
   "metadata": {},
   "outputs": [],
   "source": [
    "%load_ext autoreload\n",
    "%autoreload 2"
   ]
  },
  {
   "cell_type": "code",
   "execution_count": 3,
   "metadata": {},
   "outputs": [],
   "source": [
    "from sklearn import datasets"
   ]
  },
  {
   "cell_type": "code",
   "execution_count": 4,
   "metadata": {},
   "outputs": [],
   "source": [
    "import numpy as np"
   ]
  },
  {
   "cell_type": "code",
   "execution_count": 5,
   "metadata": {},
   "outputs": [],
   "source": [
    "iris = datasets.load_iris()"
   ]
  },
  {
   "cell_type": "code",
   "execution_count": 6,
   "metadata": {},
   "outputs": [],
   "source": [
    "X = iris.data\n",
    "y = iris.target"
   ]
  },
  {
   "cell_type": "code",
   "execution_count": 7,
   "metadata": {},
   "outputs": [],
   "source": [
    "from tree_modules.tree_base import gini"
   ]
  },
  {
   "cell_type": "markdown",
   "metadata": {},
   "source": [
    "## フィット過程を記録するためにNodeクラスを定義する\n",
    "- 記録が必要な情報\n",
    "    - 中間ノードの場合\n",
    "        - ノード番号\n",
    "        - どの特徴量で分割するか\n",
    "        - 分割の閾値\n",
    "        - 子ノードの番号\n",
    "    - 葉ノードの場合\n",
    "        - ノード番号\n",
    "        - 分類後のクラス番号\n",
    "    \n",
    "- 中間ノードと終端ノード（葉ノード）を別々に実装\n",
    "    - 基本ノードクラスを作成し，継承させる。\n",
    "        - ノード番号と，念の為木の深さdepthも入れておく。"
   ]
  },
  {
   "cell_type": "code",
   "execution_count": 8,
   "metadata": {},
   "outputs": [],
   "source": [
    "class node_basis():\n",
    "    \n",
    "    def __init__(self, i_node, depth):\n",
    "        \n",
    "        self.i_node = i_node\n",
    "        self.depth = depth"
   ]
  },
  {
   "cell_type": "code",
   "execution_count": 9,
   "metadata": {},
   "outputs": [],
   "source": [
    "class node_internal(node_basis):\n",
    "    \n",
    "    def __init__(self, i_node, depth, i_feature, threshold):\n",
    "        \n",
    "        super().__init__(i_node, depth)\n",
    "        self.i_feature = i_feature\n",
    "        self.threshold = threshold\n",
    "        \n",
    "        self.node_child = {0:None, 1:None}\n",
    "        \n",
    "\n",
    "    def set_node_child(self, lr, i):\n",
    "        self.node_child[lr] = i\n"
   ]
  },
  {
   "cell_type": "code",
   "execution_count": 10,
   "metadata": {},
   "outputs": [],
   "source": [
    "class node_leaf(node_basis):\n",
    "    \n",
    "    def __init__(self, i_node, depth, k):\n",
    "        \n",
    "        super().__init__(i_node, depth)\n",
    "        self.k_decided = k"
   ]
  },
  {
   "cell_type": "markdown",
   "metadata": {},
   "source": [
    "## go_on_dividing関数に付け加える"
   ]
  },
  {
   "cell_type": "code",
   "execution_count": 11,
   "metadata": {},
   "outputs": [],
   "source": [
    "def find_optimal_division(x, y):\n",
    "    list_gini = []\n",
    "    x_unique = np.unique(x)\n",
    "\n",
    "    for threshold in x_unique:\n",
    "\n",
    "        mask_divide = x > threshold\n",
    "        y_upper = y[mask_divide]\n",
    "        y_lower = y[~mask_divide]\n",
    "\n",
    "        gini_divide = (gini(y_upper) * len(y_upper) + gini(y_lower) * len(y_lower)) / len(y)\n",
    "\n",
    "        list_gini.append(gini_divide)\n",
    "        \n",
    "    array_gini = np.array(list_gini)\n",
    "    i_div_opt = np.argmin(array_gini)\n",
    "    \n",
    "    return x_unique[i_div_opt], array_gini[i_div_opt]"
   ]
  },
  {
   "cell_type": "code",
   "execution_count": 17,
   "metadata": {},
   "outputs": [],
   "source": [
    "def divide_tree(X, y):\n",
    "\n",
    "    results = np.apply_along_axis(find_optimal_division, 0, X, y)\n",
    "\n",
    "    arg_div = np.argmin(results[1])\n",
    "    x_div = results[0, arg_div]\n",
    "\n",
    "    return arg_div, x_div"
   ]
  },
  {
   "cell_type": "code",
   "execution_count": 21,
   "metadata": {},
   "outputs": [],
   "source": [
    "def go_on_dividing(X, y, depth=0,\n",
    "                   threshold_gini=0.05, min_node_size=5, max_depth=3):\n",
    "    \n",
    "    global i_node, dict_nodes\n",
    "    depth += 1\n",
    "\n",
    "    arg_div, x_div = divide_tree(X, y)\n",
    "    node_current = node_internal(i_node, depth, arg_div, x_div)\n",
    "    dict_nodes[i_node] = node_current\n",
    "\n",
    "    print(\"=== node {} (depth {}): arg_div -> {}, x_div -> {} ===\".format(i_node, depth, arg_div, x_div))\n",
    "\n",
    "    mask = X[:, arg_div] > x_div\n",
    "    X_right, X_left = X[mask], X[~mask]\n",
    "    y_right, y_left = y[mask], y[~mask]\n",
    "\n",
    "    gini_left = gini(y_left)\n",
    "    gini_right = gini(y_right)\n",
    "\n",
    "    list_divided = [(X_left, y_left, gini_left), (X_right, y_right, gini_right)]\n",
    "\n",
    "    for lr, divided in enumerate(list_divided):\n",
    "        i_node +=1\n",
    "\n",
    "        X_i, y_i, gini_i = divided\n",
    "        if gini_i > threshold_gini and len(y_i)>min_node_size and depth+1 <= max_depth:\n",
    "\n",
    "            node_current.set_node_child(lr, i_node)\n",
    "            go_on_dividing(X_i, y_i, depth=depth)\n",
    "        else:\n",
    "            node_current.set_node_child(lr, i_node)\n",
    "            feature_majority = np.bincount(np.array(y_i)).argmax()\n",
    "\n",
    "            node_terminal = node_leaf(i_node, depth, feature_majority)\n",
    "            dict_nodes[i_node] = node_terminal"
   ]
  },
  {
   "cell_type": "code",
   "execution_count": 22,
   "metadata": {},
   "outputs": [
    {
     "name": "stdout",
     "output_type": "stream",
     "text": [
      "=== node 0 (depth 1): arg_div -> 2, x_div -> 1.9 ===\n",
      "=== node 2 (depth 2): arg_div -> 3, x_div -> 1.7 ===\n",
      "=== node 3 (depth 3): arg_div -> 2, x_div -> 4.9 ===\n"
     ]
    }
   ],
   "source": [
    "i_node=0\n",
    "dict_nodes = {}\n",
    "go_on_dividing(X, y)"
   ]
  },
  {
   "cell_type": "code",
   "execution_count": 26,
   "metadata": {},
   "outputs": [
    {
     "data": {
      "text/plain": [
       "{0: <__main__.node_internal at 0x1222dcfd0>,\n",
       " 1: <__main__.node_leaf at 0x1222dccf8>,\n",
       " 2: <__main__.node_internal at 0x1222dc9b0>,\n",
       " 3: <__main__.node_internal at 0x1222dc908>,\n",
       " 4: <__main__.node_leaf at 0x1222dcc88>,\n",
       " 5: <__main__.node_leaf at 0x1222dc828>,\n",
       " 6: <__main__.node_leaf at 0x1222dceb8>}"
      ]
     },
     "execution_count": 26,
     "metadata": {},
     "output_type": "execute_result"
    }
   ],
   "source": [
    "dict_nodes"
   ]
  },
  {
   "cell_type": "code",
   "execution_count": 31,
   "metadata": {},
   "outputs": [
    {
     "data": {
      "text/plain": [
       "(3, 1.7)"
      ]
     },
     "execution_count": 31,
     "metadata": {},
     "output_type": "execute_result"
    }
   ],
   "source": [
    "dict_nodes[2].i_feature, dict_nodes[2].threshold"
   ]
  },
  {
   "cell_type": "code",
   "execution_count": 30,
   "metadata": {
    "scrolled": true
   },
   "outputs": [
    {
     "data": {
      "text/plain": [
       "{0: 3, 1: 6}"
      ]
     },
     "execution_count": 30,
     "metadata": {},
     "output_type": "execute_result"
    }
   ],
   "source": [
    "dict_nodes[2].node_child"
   ]
  },
  {
   "cell_type": "code",
   "execution_count": 50,
   "metadata": {},
   "outputs": [
    {
     "data": {
      "text/plain": [
       "0"
      ]
     },
     "execution_count": 50,
     "metadata": {},
     "output_type": "execute_result"
    }
   ],
   "source": [
    "dict_nodes[1].k_decided"
   ]
  },
  {
   "cell_type": "markdown",
   "metadata": {},
   "source": [
    "## フィットで作成したnode情報から予測を行う"
   ]
  },
  {
   "cell_type": "markdown",
   "metadata": {},
   "source": [
    "#### まずは適当な特徴ベクトルをサンプルに"
   ]
  },
  {
   "cell_type": "code",
   "execution_count": 32,
   "metadata": {},
   "outputs": [],
   "source": [
    "x_sample = X[0]"
   ]
  },
  {
   "cell_type": "code",
   "execution_count": 33,
   "metadata": {},
   "outputs": [
    {
     "data": {
      "text/plain": [
       "array([5.1, 3.5, 1.4, 0.2])"
      ]
     },
     "execution_count": 33,
     "metadata": {},
     "output_type": "execute_result"
    }
   ],
   "source": [
    "x_sample"
   ]
  },
  {
   "cell_type": "code",
   "execution_count": 35,
   "metadata": {},
   "outputs": [
    {
     "data": {
      "text/plain": [
       "2"
      ]
     },
     "execution_count": 35,
     "metadata": {},
     "output_type": "execute_result"
    }
   ],
   "source": [
    "dict_nodes[0].i_feature"
   ]
  },
  {
   "cell_type": "code",
   "execution_count": 36,
   "metadata": {},
   "outputs": [
    {
     "data": {
      "text/plain": [
       "1.9"
      ]
     },
     "execution_count": 36,
     "metadata": {},
     "output_type": "execute_result"
    }
   ],
   "source": [
    "dict_nodes[0].threshold"
   ]
  },
  {
   "cell_type": "code",
   "execution_count": 37,
   "metadata": {},
   "outputs": [
    {
     "data": {
      "text/plain": [
       "{0: 1, 1: 2}"
      ]
     },
     "execution_count": 37,
     "metadata": {},
     "output_type": "execute_result"
    }
   ],
   "source": [
    "dict_nodes[0].node_child"
   ]
  },
  {
   "cell_type": "code",
   "execution_count": 40,
   "metadata": {},
   "outputs": [],
   "source": [
    "node_current = dict_nodes[0]\n",
    "\n",
    "lr = int(x_sample[node_current.i_feature] > node_current.threshold)\n",
    "node_next = dict_nodes[node_current.node_child[lr]]"
   ]
  },
  {
   "cell_type": "code",
   "execution_count": 41,
   "metadata": {},
   "outputs": [
    {
     "data": {
      "text/plain": [
       "0"
      ]
     },
     "execution_count": 41,
     "metadata": {},
     "output_type": "execute_result"
    }
   ],
   "source": [
    "lr"
   ]
  },
  {
   "cell_type": "code",
   "execution_count": 42,
   "metadata": {},
   "outputs": [
    {
     "name": "stdout",
     "output_type": "stream",
     "text": [
      "0\n"
     ]
    }
   ],
   "source": [
    "if node_next.__class__.__name__ == 'node_leaf':\n",
    "    print(node_next.k_decided)"
   ]
  },
  {
   "cell_type": "markdown",
   "metadata": {},
   "source": [
    "#### 関数にまとめる"
   ]
  },
  {
   "cell_type": "code",
   "execution_count": 43,
   "metadata": {},
   "outputs": [],
   "source": [
    "def pred_at_node(x, node):\n",
    "    lr = int(x[node.i_feature] > node.threshold)\n",
    "    i_node_next = node.node_child[lr]\n",
    "    \n",
    "    return i_node_next"
   ]
  },
  {
   "cell_type": "code",
   "execution_count": 44,
   "metadata": {},
   "outputs": [],
   "source": [
    "def pred_each_vector(x, dict_nodes):\n",
    "    node_current = dict_nodes[0]\n",
    "    while True:\n",
    "        node_next = dict_nodes[pred_at_node(x, node_current)]\n",
    "        if node_next.__class__.__name__ == 'node_leaf':\n",
    "            return node_next.k_decided\n",
    "        else:\n",
    "            node_current = node_next"
   ]
  },
  {
   "cell_type": "code",
   "execution_count": 45,
   "metadata": {},
   "outputs": [
    {
     "data": {
      "text/plain": [
       "0"
      ]
     },
     "execution_count": 45,
     "metadata": {},
     "output_type": "execute_result"
    }
   ],
   "source": [
    "pred_each_vector(x_sample, dict_nodes)"
   ]
  },
  {
   "cell_type": "markdown",
   "metadata": {},
   "source": [
    "#### 全データに適用してみる"
   ]
  },
  {
   "cell_type": "code",
   "execution_count": 51,
   "metadata": {},
   "outputs": [],
   "source": [
    "y_pred = np.apply_along_axis(func1d=pred_each_vector, axis=1, arr=X, dict_nodes=dict_nodes)"
   ]
  },
  {
   "cell_type": "code",
   "execution_count": 52,
   "metadata": {},
   "outputs": [
    {
     "data": {
      "text/plain": [
       "array([0, 0, 0, 0, 0, 0, 0, 0, 0, 0, 0, 0, 0, 0, 0, 0, 0, 0, 0, 0, 0, 0,\n",
       "       0, 0, 0, 0, 0, 0, 0, 0, 0, 0, 0, 0, 0, 0, 0, 0, 0, 0, 0, 0, 0, 0,\n",
       "       0, 0, 0, 0, 0, 0, 1, 1, 1, 1, 1, 1, 1, 1, 1, 1, 1, 1, 1, 1, 1, 1,\n",
       "       1, 1, 1, 1, 2, 1, 1, 1, 1, 1, 1, 2, 1, 1, 1, 1, 1, 2, 1, 1, 1, 1,\n",
       "       1, 1, 1, 1, 1, 1, 1, 1, 1, 1, 1, 1, 2, 2, 2, 2, 2, 2, 1, 2, 2, 2,\n",
       "       2, 2, 2, 2, 2, 2, 2, 2, 2, 2, 2, 2, 2, 2, 2, 2, 2, 2, 2, 2, 2, 2,\n",
       "       2, 2, 2, 2, 2, 2, 2, 2, 2, 2, 2, 2, 2, 2, 2, 2, 2, 2])"
      ]
     },
     "execution_count": 52,
     "metadata": {},
     "output_type": "execute_result"
    }
   ],
   "source": [
    "y_pred"
   ]
  },
  {
   "cell_type": "code",
   "execution_count": 48,
   "metadata": {},
   "outputs": [
    {
     "data": {
      "text/plain": [
       "0.9733333333333334"
      ]
     },
     "execution_count": 48,
     "metadata": {},
     "output_type": "execute_result"
    }
   ],
   "source": [
    "# 精度。フィットに用いたのと同じデータで計算しているから，高くて当たり前。\n",
    "(y_pred == y).sum() / len(y)"
   ]
  },
  {
   "cell_type": "markdown",
   "metadata": {},
   "source": [
    "## MyTreeクラスとして整える"
   ]
  },
  {
   "cell_type": "code",
   "execution_count": 156,
   "metadata": {},
   "outputs": [],
   "source": [
    "class MyTree():\n",
    "    \n",
    "    \n",
    "    def __init__(self, threshold_gini=0.05, min_node_size=5, max_depth=3):\n",
    "        \n",
    "        self.threshold_gini, self.min_node_size, self.max_depth = threshold_gini, min_node_size, max_depth\n",
    "        self.i_node = None\n",
    "        self.dict_nodes = None\n",
    "    \n",
    "    \n",
    "    def _find_optimal_division(self, x, y):\n",
    "        list_gini = []\n",
    "        x_unique = np.unique(x)\n",
    "\n",
    "        for threshold in x_unique:\n",
    "\n",
    "            mask_divide = x > threshold\n",
    "            y_right = y[mask_divide]\n",
    "            y_left = y[~mask_divide]\n",
    "\n",
    "            gini_divide = (gini(y_right) * len(y_right) + gini(y_left) * len(y_left)) / len(y)\n",
    "\n",
    "            list_gini.append(gini_divide)\n",
    "\n",
    "        array_gini = np.array(list_gini)\n",
    "        i_div_opt = np.argmin(array_gini)\n",
    "\n",
    "        return x_unique[i_div_opt], array_gini[i_div_opt]\n",
    "\n",
    "\n",
    "    def _divide(self, X, y):\n",
    "\n",
    "        results = np.apply_along_axis(self._find_optimal_division, 0, X, y)\n",
    "\n",
    "        arg_div = np.argmin(results[1])\n",
    "        x_div = results[0, arg_div]\n",
    "\n",
    "        return arg_div, x_div\n",
    "\n",
    "\n",
    "    def _go_on_dividing(self, X, y, depth=0):\n",
    "\n",
    "        depth += 1\n",
    "\n",
    "        arg_div, x_div = self._divide(X, y)\n",
    "        node_current = node_internal(self.i_node, depth, arg_div, x_div)\n",
    "        self.dict_nodes[self.i_node] = node_current\n",
    "\n",
    "        print(\"=== node {} (depth {}): arg_div -> {}, x_div -> {} ===\".format(self.i_node, depth, arg_div, x_div))\n",
    "\n",
    "        mask = X[:, arg_div] > x_div\n",
    "        X_right, X_left = X[mask], X[~mask]\n",
    "        y_right, y_left = y[mask], y[~mask]\n",
    "\n",
    "        gini_left = gini(y_left)\n",
    "        gini_right = gini(y_right)\n",
    "\n",
    "        list_divided = [(X_left, y_left, gini_left), (X_right, y_right, gini_right)]\n",
    "\n",
    "        for lr, divided in enumerate(list_divided):\n",
    "            self.i_node +=1\n",
    "\n",
    "            X_i, y_i, gini_i = divided\n",
    "            if gini_i > self.threshold_gini and len(y_i)>self.min_node_size and depth+1 <= self.max_depth:\n",
    "                \n",
    "                node_current.set_node_child(lr, self.i_node)\n",
    "                self._go_on_dividing(X_i, y_i, depth=depth)\n",
    "            else:\n",
    "                node_current.set_node_child(lr, self.i_node)\n",
    "                feature_majority = np.bincount(np.array(y_i)).argmax()\n",
    "                \n",
    "                node_terminal = node_leaf(self.i_node, depth, feature_majority)\n",
    "                self.dict_nodes[self.i_node] = node_terminal\n",
    "                \n",
    "\n",
    "    def fit(self, X, y):\n",
    "        \n",
    "        self.i_node = 0\n",
    "        self.dict_nodes = {}\n",
    "        \n",
    "        self._go_on_dividing(X, y)\n",
    "\n",
    "\n",
    "    def _pred_each_vector(self, x):\n",
    "        \n",
    "        node_current = self.dict_nodes[0]\n",
    "        while True:\n",
    "            lr = int(x[node_current.i_feature] > node_current.threshold)\n",
    "            node_next = self.dict_nodes[node_current.node_child[lr]]\n",
    "            \n",
    "            if node_next.__class__.__name__ == 'node_leaf':\n",
    "                return node_next.k_decided\n",
    "            else:\n",
    "                node_current = node_next\n",
    "    \n",
    "    \n",
    "    def predict(self, X):\n",
    "        \n",
    "        return np.apply_along_axis(self._pred_each_vector, 1, X)"
   ]
  },
  {
   "cell_type": "markdown",
   "metadata": {},
   "source": [
    "#### 実際にそれっぽく使ってみる"
   ]
  },
  {
   "cell_type": "code",
   "execution_count": 157,
   "metadata": {},
   "outputs": [],
   "source": [
    "from sklearn.model_selection import train_test_split"
   ]
  },
  {
   "cell_type": "code",
   "execution_count": 158,
   "metadata": {},
   "outputs": [],
   "source": [
    "X_train, X_test, y_train, y_test = train_test_split(X, y)"
   ]
  },
  {
   "cell_type": "code",
   "execution_count": 159,
   "metadata": {},
   "outputs": [
    {
     "data": {
      "text/plain": [
       "((112, 4), (112,))"
      ]
     },
     "execution_count": 159,
     "metadata": {},
     "output_type": "execute_result"
    }
   ],
   "source": [
    "X_train.shape, y_train.shape"
   ]
  },
  {
   "cell_type": "code",
   "execution_count": 160,
   "metadata": {},
   "outputs": [
    {
     "data": {
      "text/plain": [
       "((38, 4), (38,))"
      ]
     },
     "execution_count": 160,
     "metadata": {},
     "output_type": "execute_result"
    }
   ],
   "source": [
    "X_test.shape, y_test.shape"
   ]
  },
  {
   "cell_type": "code",
   "execution_count": 161,
   "metadata": {},
   "outputs": [],
   "source": [
    "tree = MyTree()"
   ]
  },
  {
   "cell_type": "code",
   "execution_count": 162,
   "metadata": {},
   "outputs": [
    {
     "name": "stdout",
     "output_type": "stream",
     "text": [
      "=== node 0 (depth 1): arg_div -> 2, x_div -> 1.9 ===\n",
      "=== node 2 (depth 2): arg_div -> 2, x_div -> 4.8 ===\n",
      "=== node 3 (depth 3): arg_div -> 3, x_div -> 1.6 ===\n",
      "=== node 6 (depth 3): arg_div -> 3, x_div -> 1.7 ===\n"
     ]
    }
   ],
   "source": [
    "tree.fit(X_train, y_train)"
   ]
  },
  {
   "cell_type": "code",
   "execution_count": 163,
   "metadata": {},
   "outputs": [],
   "source": [
    "y_pred = tree.predict(X_test)"
   ]
  },
  {
   "cell_type": "code",
   "execution_count": 164,
   "metadata": {},
   "outputs": [
    {
     "data": {
      "text/plain": [
       "array([2, 0, 0, 0, 0, 2, 0, 1, 2, 0, 1, 0, 0, 0, 1, 0, 1, 2, 0, 2, 1, 2,\n",
       "       2, 1, 1, 0, 0, 2, 0, 2, 1, 2, 1, 1, 1, 1, 2, 2])"
      ]
     },
     "execution_count": 164,
     "metadata": {},
     "output_type": "execute_result"
    }
   ],
   "source": [
    "y_pred"
   ]
  },
  {
   "cell_type": "code",
   "execution_count": 165,
   "metadata": {},
   "outputs": [
    {
     "data": {
      "text/plain": [
       "array([1, 0, 0, 0, 0, 2, 0, 1, 2, 0, 1, 0, 0, 0, 1, 0, 1, 2, 0, 2, 1, 2,\n",
       "       2, 1, 1, 0, 0, 1, 0, 2, 1, 2, 1, 1, 1, 1, 2, 2])"
      ]
     },
     "execution_count": 165,
     "metadata": {},
     "output_type": "execute_result"
    }
   ],
   "source": [
    "y_test"
   ]
  },
  {
   "cell_type": "code",
   "execution_count": 166,
   "metadata": {},
   "outputs": [
    {
     "data": {
      "text/plain": [
       "0.9473684210526315"
      ]
     },
     "execution_count": 166,
     "metadata": {},
     "output_type": "execute_result"
    }
   ],
   "source": [
    "(y_pred == y_test).sum() / len(y_test)"
   ]
  },
  {
   "cell_type": "code",
   "execution_count": null,
   "metadata": {},
   "outputs": [],
   "source": []
  }
 ],
 "metadata": {
  "kernelspec": {
   "display_name": "Python 3",
   "language": "python",
   "name": "python3"
  },
  "language_info": {
   "codemirror_mode": {
    "name": "ipython",
    "version": 3
   },
   "file_extension": ".py",
   "mimetype": "text/x-python",
   "name": "python",
   "nbconvert_exporter": "python",
   "pygments_lexer": "ipython3",
   "version": "3.7.1"
  }
 },
 "nbformat": 4,
 "nbformat_minor": 2
}
