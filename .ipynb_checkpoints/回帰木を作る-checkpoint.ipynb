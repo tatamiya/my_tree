{
 "cells": [
  {
   "cell_type": "code",
   "execution_count": 1,
   "metadata": {},
   "outputs": [],
   "source": [
    "%load_ext autoreload\n",
    "%autoreload 2"
   ]
  },
  {
   "cell_type": "code",
   "execution_count": 2,
   "metadata": {},
   "outputs": [],
   "source": [
    "from sklearn import datasets\n",
    "from sklearn.model_selection import train_test_split"
   ]
  },
  {
   "cell_type": "code",
   "execution_count": 3,
   "metadata": {},
   "outputs": [],
   "source": [
    "import numpy as np"
   ]
  },
  {
   "cell_type": "markdown",
   "metadata": {},
   "source": [
    "## データを読み込む\n",
    "- boston_housing"
   ]
  },
  {
   "cell_type": "code",
   "execution_count": 4,
   "metadata": {},
   "outputs": [],
   "source": [
    "boston = datasets.load_boston()"
   ]
  },
  {
   "cell_type": "code",
   "execution_count": 5,
   "metadata": {},
   "outputs": [],
   "source": [
    "X = boston.data\n",
    "y = boston.target"
   ]
  },
  {
   "cell_type": "code",
   "execution_count": 6,
   "metadata": {},
   "outputs": [
    {
     "data": {
      "text/plain": [
       "(506, 13)"
      ]
     },
     "execution_count": 6,
     "metadata": {},
     "output_type": "execute_result"
    }
   ],
   "source": [
    "X.shape"
   ]
  },
  {
   "cell_type": "code",
   "execution_count": 7,
   "metadata": {},
   "outputs": [
    {
     "data": {
      "text/plain": [
       "\".. _boston_dataset:\\n\\nBoston house prices dataset\\n---------------------------\\n\\n**Data Set Characteristics:**  \\n\\n    :Number of Instances: 506 \\n\\n    :Number of Attributes: 13 numeric/categorical predictive. Median Value (attribute 14) is usually the target.\\n\\n    :Attribute Information (in order):\\n        - CRIM     per capita crime rate by town\\n        - ZN       proportion of residential land zoned for lots over 25,000 sq.ft.\\n        - INDUS    proportion of non-retail business acres per town\\n        - CHAS     Charles River dummy variable (= 1 if tract bounds river; 0 otherwise)\\n        - NOX      nitric oxides concentration (parts per 10 million)\\n        - RM       average number of rooms per dwelling\\n        - AGE      proportion of owner-occupied units built prior to 1940\\n        - DIS      weighted distances to five Boston employment centres\\n        - RAD      index of accessibility to radial highways\\n        - TAX      full-value property-tax rate per $10,000\\n        - PTRATIO  pupil-teacher ratio by town\\n        - B        1000(Bk - 0.63)^2 where Bk is the proportion of blacks by town\\n        - LSTAT    % lower status of the population\\n        - MEDV     Median value of owner-occupied homes in $1000's\\n\\n    :Missing Attribute Values: None\\n\\n    :Creator: Harrison, D. and Rubinfeld, D.L.\\n\\nThis is a copy of UCI ML housing dataset.\\nhttps://archive.ics.uci.edu/ml/machine-learning-databases/housing/\\n\\n\\nThis dataset was taken from the StatLib library which is maintained at Carnegie Mellon University.\\n\\nThe Boston house-price data of Harrison, D. and Rubinfeld, D.L. 'Hedonic\\nprices and the demand for clean air', J. Environ. Economics & Management,\\nvol.5, 81-102, 1978.   Used in Belsley, Kuh & Welsch, 'Regression diagnostics\\n...', Wiley, 1980.   N.B. Various transformations are used in the table on\\npages 244-261 of the latter.\\n\\nThe Boston house-price data has been used in many machine learning papers that address regression\\nproblems.   \\n     \\n.. topic:: References\\n\\n   - Belsley, Kuh & Welsch, 'Regression diagnostics: Identifying Influential Data and Sources of Collinearity', Wiley, 1980. 244-261.\\n   - Quinlan,R. (1993). Combining Instance-Based and Model-Based Learning. In Proceedings on the Tenth International Conference of Machine Learning, 236-243, University of Massachusetts, Amherst. Morgan Kaufmann.\\n\""
      ]
     },
     "execution_count": 7,
     "metadata": {},
     "output_type": "execute_result"
    }
   ],
   "source": [
    "boston.DESCR"
   ]
  },
  {
   "cell_type": "markdown",
   "metadata": {},
   "source": [
    "## とりあえず適当に分割してみる"
   ]
  },
  {
   "cell_type": "code",
   "execution_count": 8,
   "metadata": {},
   "outputs": [
    {
     "data": {
      "text/plain": [
       "3.613523557312254"
      ]
     },
     "execution_count": 8,
     "metadata": {},
     "output_type": "execute_result"
    }
   ],
   "source": [
    "X[:, 0].mean()"
   ]
  },
  {
   "cell_type": "code",
   "execution_count": 9,
   "metadata": {},
   "outputs": [],
   "source": [
    "mask = X[:, 0] > 3.0"
   ]
  },
  {
   "cell_type": "code",
   "execution_count": 10,
   "metadata": {},
   "outputs": [],
   "source": [
    "y_left, y_right = y[~mask], y[mask]"
   ]
  },
  {
   "cell_type": "code",
   "execution_count": 11,
   "metadata": {},
   "outputs": [],
   "source": [
    "def ssd(x):\n",
    "    return ((x - x.mean())**2).sum()"
   ]
  },
  {
   "cell_type": "code",
   "execution_count": 12,
   "metadata": {},
   "outputs": [
    {
     "data": {
      "text/plain": [
       "26184.91769436997"
      ]
     },
     "execution_count": 12,
     "metadata": {},
     "output_type": "execute_result"
    }
   ],
   "source": [
    "ssd(y_left)"
   ]
  },
  {
   "cell_type": "code",
   "execution_count": 13,
   "metadata": {
    "scrolled": true
   },
   "outputs": [
    {
     "data": {
      "text/plain": [
       "35700.45649136245"
      ]
     },
     "execution_count": 13,
     "metadata": {},
     "output_type": "execute_result"
    }
   ],
   "source": [
    "ssd(y_left) + ssd(y_right)"
   ]
  },
  {
   "cell_type": "markdown",
   "metadata": {},
   "source": [
    "#### 特徴量固定で最適分割点を探す"
   ]
  },
  {
   "cell_type": "code",
   "execution_count": 14,
   "metadata": {},
   "outputs": [
    {
     "name": "stderr",
     "output_type": "stream",
     "text": [
      "/Users/tatamiya/.pyenv/versions/3.7.1/envs/tree/lib/python3.7/site-packages/ipykernel_launcher.py:2: RuntimeWarning: Mean of empty slice.\n",
      "  \n",
      "/Users/tatamiya/.pyenv/versions/3.7.1/envs/tree/lib/python3.7/site-packages/numpy/core/_methods.py:85: RuntimeWarning: invalid value encountered in double_scalars\n",
      "  ret = ret.dtype.type(ret / rcount)\n"
     ]
    }
   ],
   "source": [
    "list_ssd = []\n",
    "X_div = np.unique(X[:, 0])\n",
    "\n",
    "for threshold in X_div:\n",
    "    \n",
    "    mask_divide = X[:, 0] > threshold\n",
    "    y_right = y[mask_divide]\n",
    "    y_left = y[~mask_divide]\n",
    "\n",
    "    gini_divide = ssd(y_left) + ssd(y_right)\n",
    "    \n",
    "    list_ssd.append(gini_divide)"
   ]
  },
  {
   "cell_type": "code",
   "execution_count": 15,
   "metadata": {},
   "outputs": [
    {
     "data": {
      "text/plain": [
       "(504,)"
      ]
     },
     "execution_count": 15,
     "metadata": {},
     "output_type": "execute_result"
    }
   ],
   "source": [
    "X_div.shape"
   ]
  },
  {
   "cell_type": "code",
   "execution_count": 16,
   "metadata": {},
   "outputs": [
    {
     "data": {
      "text/plain": [
       "6.65492"
      ]
     },
     "execution_count": 16,
     "metadata": {},
     "output_type": "execute_result"
    }
   ],
   "source": [
    "arg_div = np.array(list_ssd).argmin()\n",
    "X_div[arg_div]"
   ]
  },
  {
   "cell_type": "markdown",
   "metadata": {},
   "source": [
    "#### 関数にする"
   ]
  },
  {
   "cell_type": "code",
   "execution_count": 17,
   "metadata": {},
   "outputs": [],
   "source": [
    "def find_optimal_division(x, y):\n",
    "    list_ssd = []\n",
    "    x_unique = np.unique(x)\n",
    "\n",
    "    for threshold in x_unique:\n",
    "\n",
    "        mask_divide = x > threshold\n",
    "        y_left = y[mask_divide]\n",
    "        y_right = y[~mask_divide]\n",
    "\n",
    "        ssd_divide = ssd(y_left) + ssd(y_right)\n",
    "\n",
    "        list_ssd.append(ssd_divide)\n",
    "        \n",
    "    array_ssd = np.array(list_ssd)\n",
    "    i_div_opt = np.argmin(array_ssd)\n",
    "    \n",
    "    return x_unique[i_div_opt], array_ssd[i_div_opt]"
   ]
  },
  {
   "cell_type": "code",
   "execution_count": 18,
   "metadata": {},
   "outputs": [
    {
     "name": "stderr",
     "output_type": "stream",
     "text": [
      "/Users/tatamiya/.pyenv/versions/3.7.1/envs/tree/lib/python3.7/site-packages/ipykernel_launcher.py:2: RuntimeWarning: Mean of empty slice.\n",
      "  \n"
     ]
    },
    {
     "data": {
      "text/plain": [
       "(6.65492, 34450.1226854067)"
      ]
     },
     "execution_count": 18,
     "metadata": {},
     "output_type": "execute_result"
    }
   ],
   "source": [
    "find_optimal_division(X[:, 0], y)"
   ]
  },
  {
   "cell_type": "markdown",
   "metadata": {},
   "source": [
    "#### 全特徴量で見る"
   ]
  },
  {
   "cell_type": "code",
   "execution_count": 19,
   "metadata": {},
   "outputs": [
    {
     "name": "stderr",
     "output_type": "stream",
     "text": [
      "/Users/tatamiya/.pyenv/versions/3.7.1/envs/tree/lib/python3.7/site-packages/ipykernel_launcher.py:2: RuntimeWarning: Mean of empty slice.\n",
      "  \n"
     ]
    }
   ],
   "source": [
    "results = np.apply_along_axis(func1d=find_optimal_division, axis=0, arr=X, y=y)"
   ]
  },
  {
   "cell_type": "code",
   "execution_count": 20,
   "metadata": {},
   "outputs": [
    {
     "data": {
      "text/plain": [
       "array([[6.65492000e+00, 1.25000000e+01, 6.41000000e+00, 0.00000000e+00,\n",
       "        6.68000000e-01, 6.93900000e+00, 7.60000000e+01, 2.59750000e+00,\n",
       "        8.00000000e+00, 4.11000000e+02, 1.97000000e+01, 3.44910000e+02,\n",
       "        9.71000000e+00],\n",
       "       [3.44501227e+04, 3.60472329e+04, 3.16330699e+04, 4.14042161e+04,\n",
       "        3.31800714e+04, 2.33767404e+04, 3.71426478e+04, 3.77217549e+04,\n",
       "        3.60076521e+04, 3.40982111e+04, 3.22776006e+04, 3.74569756e+04,\n",
       "        2.38201014e+04]])"
      ]
     },
     "execution_count": 20,
     "metadata": {},
     "output_type": "execute_result"
    }
   ],
   "source": [
    "results"
   ]
  },
  {
   "cell_type": "code",
   "execution_count": 21,
   "metadata": {},
   "outputs": [],
   "source": [
    "arg_div = np.argmin(results[1])\n",
    "x_div = results[0, arg_div]"
   ]
  },
  {
   "cell_type": "code",
   "execution_count": 22,
   "metadata": {},
   "outputs": [
    {
     "data": {
      "text/plain": [
       "(5, 6.939)"
      ]
     },
     "execution_count": 22,
     "metadata": {},
     "output_type": "execute_result"
    }
   ],
   "source": [
    "arg_div, x_div"
   ]
  },
  {
   "cell_type": "markdown",
   "metadata": {},
   "source": [
    "## 分類と共通化する"
   ]
  },
  {
   "cell_type": "markdown",
   "metadata": {},
   "source": [
    "#### MSEの場合\n",
    "- 回帰木の学習段階の場合，MSEはSTDEVと一致する。"
   ]
  },
  {
   "cell_type": "code",
   "execution_count": 23,
   "metadata": {},
   "outputs": [],
   "source": [
    "def mse(x):\n",
    "    \n",
    "    return x.var()"
   ]
  },
  {
   "cell_type": "markdown",
   "metadata": {},
   "source": [
    "#### Gini指数による不純度"
   ]
  },
  {
   "cell_type": "code",
   "execution_count": 24,
   "metadata": {},
   "outputs": [],
   "source": [
    "def gini(x):\n",
    "    _, counts = np.unique(x, return_counts=True)\n",
    "    prob = counts / len(x)\n",
    "    \n",
    "    return 1 - (prob * prob).sum()"
   ]
  },
  {
   "cell_type": "code",
   "execution_count": 25,
   "metadata": {},
   "outputs": [],
   "source": [
    "def criterion_lr(y_left, y_right, func_criterion):\n",
    "    \n",
    "    return (func_criterion(y_left) * len(y_left) + func_criterion(y_right) * len(y_right) ) / (len(y_left) + len(y_right))"
   ]
  },
  {
   "cell_type": "code",
   "execution_count": 26,
   "metadata": {},
   "outputs": [],
   "source": [
    "func_criterion = mse\n",
    "def find_optimal_division(x, y):\n",
    "    list_criterion = []\n",
    "    x_unique = np.unique(x)\n",
    "    \n",
    "    if len(x_unique) == 1:\n",
    "        return None, func_criterion(y)\n",
    "\n",
    "    for threshold in x_unique[:-1]:\n",
    "\n",
    "        mask_divide = x > threshold\n",
    "        y_left = y[mask_divide]\n",
    "        y_right = y[~mask_divide]\n",
    "\n",
    "        criterion_divide = criterion_lr(y_left, y_right, func_criterion)\n",
    "        list_criterion.append(criterion_divide)\n",
    "        \n",
    "    array_criterion = np.array(list_criterion)\n",
    "    i_div_opt = np.argmin(array_criterion)\n",
    "    \n",
    "    return x_unique[i_div_opt], array_criterion[i_div_opt]"
   ]
  },
  {
   "cell_type": "code",
   "execution_count": 27,
   "metadata": {},
   "outputs": [],
   "source": [
    "results = np.apply_along_axis(func1d=find_optimal_division, axis=0, arr=X, y=y)"
   ]
  },
  {
   "cell_type": "code",
   "execution_count": 28,
   "metadata": {},
   "outputs": [
    {
     "data": {
      "text/plain": [
       "array([[  6.65492   ,  12.5       ,   6.41      ,   0.        ,\n",
       "          0.668     ,   6.939     ,  76.        ,   2.5975    ,\n",
       "          8.        , 411.        ,  19.7       , 344.91      ,\n",
       "          9.71      ],\n",
       "       [ 68.08324641,  71.23959073,  62.51594851,  81.82651412,\n",
       "         65.57326356,  46.19909168,  73.40444221,  74.54892267,\n",
       "         71.16136777,  67.38776905,  63.78972458,  74.02564351,\n",
       "         47.07529921]])"
      ]
     },
     "execution_count": 28,
     "metadata": {},
     "output_type": "execute_result"
    }
   ],
   "source": [
    "results"
   ]
  },
  {
   "cell_type": "code",
   "execution_count": 29,
   "metadata": {},
   "outputs": [],
   "source": [
    "arg_div = np.argmin(results[1])\n",
    "x_div = results[0, arg_div]\n",
    "criterion = results[1, arg_div]"
   ]
  },
  {
   "cell_type": "code",
   "execution_count": 30,
   "metadata": {},
   "outputs": [
    {
     "data": {
      "text/plain": [
       "(5, 6.939, 46.19909167710848)"
      ]
     },
     "execution_count": 30,
     "metadata": {},
     "output_type": "execute_result"
    }
   ],
   "source": [
    "arg_div, x_div, criterion"
   ]
  },
  {
   "cell_type": "markdown",
   "metadata": {},
   "source": [
    "## Nodeクラスの書き換え"
   ]
  },
  {
   "cell_type": "code",
   "execution_count": 31,
   "metadata": {},
   "outputs": [],
   "source": [
    "class Node():\n",
    "    \n",
    "    def __init__(self, i_node, depth, criterion, value):\n",
    "\n",
    "        self.i_node, self.depth = i_node, depth\n",
    "        self.criterion, self.value = criterion, value\n",
    "        \n",
    "        self.is_leaf = False\n",
    "        \n",
    "        self.division = {}\n",
    "        self.child = {0:None, 1:None}\n",
    "        \n",
    "    def set_division(self, i_feature, threshold, criterion_diff):\n",
    "        \n",
    "        self.division['i_feature'] = i_feature\n",
    "        self.division['threshold'] = threshold\n",
    "        self.division['criterion_diff'] = criterion_diff\n"
   ]
  },
  {
   "cell_type": "markdown",
   "metadata": {},
   "source": [
    "## go_on_dividing関数に付け加える"
   ]
  },
  {
   "cell_type": "code",
   "execution_count": 32,
   "metadata": {},
   "outputs": [],
   "source": [
    "def divide(X, y):\n",
    "\n",
    "    results = np.apply_along_axis(find_optimal_division, 0, X, y)\n",
    "\n",
    "    arg_div = np.argmin(results[1])\n",
    "    x_div = results[0, arg_div]\n",
    "    criterion_opt = results[1, arg_div]\n",
    "\n",
    "    return arg_div, x_div, criterion_opt"
   ]
  },
  {
   "cell_type": "code",
   "execution_count": 33,
   "metadata": {},
   "outputs": [],
   "source": [
    "func_criterion = mse\n",
    "\n",
    "calc_node_value = np.mean\n",
    "## if calssification\n",
    "#calc_node_value = np.bincount(np.array(y_i)).argmax()\n",
    "\n",
    "def make_new_node(i_node, depth, y):\n",
    "\n",
    "    criterion = func_criterion(y)\n",
    "    node_value = calc_node_value(y)\n",
    "\n",
    "    node_new = Node(i_node, depth, criterion, node_value)\n",
    "    \n",
    "    return node_new\n",
    "\n",
    "def check_node_size(mask, min_node_size):\n",
    "    \n",
    "    sum_true = mask.sum()\n",
    "    node_size_smaller = min(sum_true, len(mask) - sum_true)\n",
    "    \n",
    "    return node_size_smaller < min_node_size\n",
    "\n",
    "def go_on_dividing(X, y, node,\n",
    "                   threshold_criterion=0.05, min_node_size=5, max_depth=3):\n",
    "    \n",
    "    global i_node\n",
    "    \n",
    "    criterion_initial = node.criterion\n",
    "    arg_div, x_div, criterion_optimized = divide(X, y)\n",
    "\n",
    "    mask = X[:, arg_div] > x_div\n",
    "    X_right, X_left = X[mask], X[~mask]\n",
    "    y_right, y_left = y[mask], y[~mask]\n",
    "    \n",
    "    criterion_diff = criterion_initial - criterion_optimized\n",
    "    print(\"=== node {} (depth {}): arg_div -> {}, x_div -> {}, criterion_diff -> {} ===\".format(i_node, node.depth, arg_div, x_div, criterion_diff))\n",
    "    \n",
    "    if criterion_diff < threshold_criterion or check_node_size(mask, min_node_size):\n",
    "        node.is_leaf = True\n",
    "    \n",
    "    else:\n",
    "        node.set_division(arg_div, x_div, criterion_diff)\n",
    "        \n",
    "        depth_next = node.depth + 1\n",
    "        list_divided = [(X_left, y_left), (X_right, y_right)]\n",
    "        for lr, divided in enumerate(list_divided):\n",
    "            i_node += 1\n",
    "            \n",
    "            X_i, y_i = divided\n",
    "            \n",
    "            node_next = make_new_node(i_node, depth_next, y)\n",
    "            node.child[lr] = node_next\n",
    "            \n",
    "            if depth_next == max_depth:\n",
    "                node_next.is_leaf = True\n",
    "            elif depth_next < max_depth:\n",
    "                go_on_dividing(X_i, y_i, node_next, threshold_criterion, min_node_size, max_depth)\n"
   ]
  },
  {
   "cell_type": "code",
   "execution_count": 34,
   "metadata": {},
   "outputs": [
    {
     "name": "stdout",
     "output_type": "stream",
     "text": [
      "=== node 0 (depth 0): arg_div -> 5, x_div -> 6.939, criterion_diff -> 38.22046447905708 ===\n",
      "=== node 1 (depth 1): arg_div -> 12, x_div -> 14.37, criterion_diff -> 61.15102431850026 ===\n",
      "=== node 2 (depth 2): arg_div -> 7, x_div -> 1.3567, criterion_diff -> 24.147775956775785 ===\n",
      "=== node 3 (depth 3): arg_div -> 0, x_div -> 9.2323, criterion_diff -> 26.008696039984624 ===\n",
      "=== node 4 (depth 3): arg_div -> 5, x_div -> 6.54, criterion_diff -> 16.891749727630312 ===\n",
      "=== node 5 (depth 4): arg_div -> 12, x_div -> 7.54, criterion_diff -> 8.043613282317422 ===\n",
      "=== node 8 (depth 4): arg_div -> 9, x_div -> 265.0, criterion_diff -> 6.732956928477343 ===\n",
      "=== node 11 (depth 2): arg_div -> 0, x_div -> 6.96215, criterion_diff -> 27.49316858528815 ===\n",
      "=== node 12 (depth 3): arg_div -> 4, x_div -> 0.524, criterion_diff -> 10.47529836843684 ===\n",
      "=== node 13 (depth 4): arg_div -> 7, x_div -> 5.4509, criterion_diff -> 4.80253382821146 ===\n",
      "=== node 16 (depth 4): arg_div -> 12, x_div -> 18.76, criterion_diff -> 4.844479099920879 ===\n",
      "=== node 19 (depth 3): arg_div -> 4, x_div -> 0.597, criterion_diff -> 8.795247443351183 ===\n",
      "=== node 20 (depth 4): arg_div -> 5, x_div -> 6.833, criterion_diff -> 6.803791309737252 ===\n",
      "=== node 21 (depth 4): arg_div -> 12, x_div -> 19.52, criterion_diff -> 9.077253349489617 ===\n",
      "=== node 24 (depth 1): arg_div -> 5, x_div -> 7.42, criterion_diff -> 44.9661108853799 ===\n",
      "=== node 25 (depth 2): arg_div -> 0, x_div -> 6.53876, criterion_diff -> 60.32295313370903 ===\n",
      "=== node 26 (depth 2): arg_div -> 0, x_div -> 2.01019, criterion_diff -> 61.655546697392296 ===\n"
     ]
    }
   ],
   "source": [
    "i_node = 0\n",
    "node_initial = make_new_node(i_node, 0, y)\n",
    "go_on_dividing(X, y, node_initial, max_depth=5)"
   ]
  },
  {
   "cell_type": "markdown",
   "metadata": {},
   "source": [
    "## フィットで作成したnode情報から予測を行う"
   ]
  },
  {
   "cell_type": "markdown",
   "metadata": {},
   "source": [
    "#### まずは適当な特徴ベクトルをサンプルに"
   ]
  },
  {
   "cell_type": "code",
   "execution_count": 35,
   "metadata": {},
   "outputs": [],
   "source": [
    "x_sample = X[0]"
   ]
  },
  {
   "cell_type": "code",
   "execution_count": 36,
   "metadata": {},
   "outputs": [
    {
     "data": {
      "text/plain": [
       "array([6.320e-03, 1.800e+01, 2.310e+00, 0.000e+00, 5.380e-01, 6.575e+00,\n",
       "       6.520e+01, 4.090e+00, 1.000e+00, 2.960e+02, 1.530e+01, 3.969e+02,\n",
       "       4.980e+00])"
      ]
     },
     "execution_count": 36,
     "metadata": {},
     "output_type": "execute_result"
    }
   ],
   "source": [
    "x_sample"
   ]
  },
  {
   "cell_type": "code",
   "execution_count": 37,
   "metadata": {},
   "outputs": [
    {
     "data": {
      "text/plain": [
       "(5, 6.939)"
      ]
     },
     "execution_count": 37,
     "metadata": {},
     "output_type": "execute_result"
    }
   ],
   "source": [
    "node_initial.division['i_feature'], node_initial.division['threshold']"
   ]
  },
  {
   "cell_type": "code",
   "execution_count": 38,
   "metadata": {
    "scrolled": true
   },
   "outputs": [
    {
     "data": {
      "text/plain": [
       "False"
      ]
     },
     "execution_count": 38,
     "metadata": {},
     "output_type": "execute_result"
    }
   ],
   "source": [
    "node_initial.is_leaf"
   ]
  },
  {
   "cell_type": "code",
   "execution_count": 39,
   "metadata": {},
   "outputs": [],
   "source": [
    "def pred_each_vector(x, node):\n",
    "\n",
    "    node_current = node\n",
    "\n",
    "    while node_current.is_leaf == False:\n",
    "        division = node_current.division\n",
    "        lr = int(x[division['i_feature']] > division['threshold'])\n",
    "        node_current = node_current.child[lr]\n",
    "    \n",
    "    return node_current.value"
   ]
  },
  {
   "cell_type": "code",
   "execution_count": 40,
   "metadata": {
    "scrolled": true
   },
   "outputs": [
    {
     "data": {
      "text/plain": [
       "27.427272727272722"
      ]
     },
     "execution_count": 40,
     "metadata": {},
     "output_type": "execute_result"
    }
   ],
   "source": [
    "pred_each_vector(x_sample, node_initial)"
   ]
  },
  {
   "cell_type": "code",
   "execution_count": 41,
   "metadata": {},
   "outputs": [],
   "source": [
    "y_pred = np.apply_along_axis(func1d=pred_each_vector, axis=1, arr=X, node=node_initial)"
   ]
  },
  {
   "cell_type": "code",
   "execution_count": 42,
   "metadata": {},
   "outputs": [
    {
     "data": {
      "text/plain": [
       "0.6927469270760239"
      ]
     },
     "execution_count": 42,
     "metadata": {},
     "output_type": "execute_result"
    }
   ],
   "source": [
    "# 精度。フィットに用いたのと同じデータで計算しているから，高くて当たり前。\n",
    "1 - np.sum((y - y_pred) ** 2) / len(y) / y.var()"
   ]
  },
  {
   "cell_type": "markdown",
   "metadata": {},
   "source": [
    "## クラスにまとめる"
   ]
  },
  {
   "cell_type": "code",
   "execution_count": 43,
   "metadata": {},
   "outputs": [],
   "source": [
    "def gini(x):\n",
    "    _, counts = np.unique(x, return_counts=True)\n",
    "    prob = counts / len(x)\n",
    "    \n",
    "    return 1 - (prob * prob).sum()\n",
    "\n",
    "def criterion_lr(y_left, y_right, func_criterion):\n",
    "    \n",
    "    return (func_criterion(y_left) * len(y_left) + func_criterion(y_right) * len(y_right) ) / (len(y_left) + len(y_right))"
   ]
  },
  {
   "cell_type": "code",
   "execution_count": 44,
   "metadata": {},
   "outputs": [],
   "source": [
    "CRITERION = {'gini':gini, 'mse':np.var}\n",
    "FUNC_NODE_VALUE = {'gini':lambda y: np.bincount(np.array(y)).argmax(), 'mse':np.mean}\n",
    "\n",
    "class MyTree():\n",
    "    \n",
    "    def __init__(self, minimum_criterion_diff=0.01, min_node_size=3, max_depth=5,\n",
    "                 splitter='best', max_features=None,\n",
    "                 criterion='gini',\n",
    "                 verbose=False):\n",
    "        \n",
    "        self.minimum_criterion_diff, self.min_node_size, self.max_depth = minimum_criterion_diff, min_node_size, max_depth\n",
    "        \n",
    "        self.func_criterion = CRITERION[criterion]\n",
    "        self.calc_node_value = FUNC_NODE_VALUE[criterion]\n",
    "                \n",
    "        self.splitter = splitter # for RF\n",
    "        self.max_features = max_features # for RF\n",
    "        \n",
    "        self.verbose = verbose\n",
    "        \n",
    "        self.i_node = 0\n",
    "        self.node_tree = None\n",
    "    \n",
    "    def _make_new_node(self, i_node, depth, y):\n",
    "\n",
    "        criterion = self.func_criterion(y)\n",
    "        node_value = self.calc_node_value(y)\n",
    "\n",
    "        node_new = Node(i_node, depth, criterion, node_value)\n",
    "\n",
    "        return node_new\n",
    "    \n",
    "    def _find_optimal_division(self, x, y):\n",
    "        list_criterion = []\n",
    "        x_unique = np.unique(x)\n",
    "\n",
    "        if len(x_unique) == 1:\n",
    "            return None, self.func_criterion(y)\n",
    "\n",
    "        for threshold in x_unique[:-1]:\n",
    "\n",
    "            mask_divide = x > threshold\n",
    "            y_left = y[mask_divide]\n",
    "            y_right = y[~mask_divide]\n",
    "\n",
    "            criterion_divide = criterion_lr(y_left, y_right, self.func_criterion)\n",
    "            list_criterion.append(criterion_divide)\n",
    "\n",
    "        array_criterion = np.array(list_criterion)\n",
    "        i_div_opt = np.argmin(array_criterion)\n",
    "\n",
    "        return x_unique[i_div_opt], array_criterion[i_div_opt]\n",
    "    \n",
    "    def _divide(self, X, y):\n",
    "\n",
    "        results = np.apply_along_axis(self._find_optimal_division, 0, X, y)\n",
    "\n",
    "        arg_div = np.argmin(results[1])\n",
    "        x_div = results[0, arg_div]\n",
    "        criterion_opt = results[1, arg_div]\n",
    "\n",
    "        return arg_div, x_div, criterion_opt\n",
    "\n",
    "    def _check_node_size(self, mask):\n",
    "\n",
    "        sum_true = mask.sum()\n",
    "        node_size_smaller = min(sum_true, len(mask) - sum_true)\n",
    "\n",
    "        return node_size_smaller < self.min_node_size\n",
    "\n",
    "    def _go_on_dividing(self, X, y, node):\n",
    "        \n",
    "        if self.splitter == 'best':\n",
    "            X_chosen = X\n",
    "            index_feat_chosen = np.arange(X.shape[1])\n",
    "        \n",
    "        elif self.splitter == 'random':\n",
    "            \n",
    "            n_features = X.shape[1]\n",
    "            if self.max_features is None:\n",
    "                num_feat_chosen = int(np.sqrt(n_features))\n",
    "            elif isinstance(self.max_features, int) and self.max_features>0 and self.max_features <= n_features:\n",
    "                num_feat_chosen = self.max_features\n",
    "            elif isinstance(self.max_features, float) and self.max_features>0 and self.max_features<=1.0:\n",
    "                num_feat_chosen = int(n_features * self.max_features)\n",
    "            else:\n",
    "                raise ValueError\n",
    "                \n",
    "            index_feat_chosen = np.random.choice(n_features, num_feat_chosen, replace=False)\n",
    "            X_chosen = X[:, index_feat_chosen]\n",
    "            \n",
    "        else:\n",
    "            raise ValueError        \n",
    "        \n",
    "        criterion_initial = node.criterion\n",
    "        arg_div, x_div, criterion_optimized = self._divide(X_chosen, y)\n",
    "\n",
    "        mask = X_chosen[:, arg_div] > x_div\n",
    "        X_right, X_left = X[mask], X[~mask]\n",
    "        y_right, y_left = y[mask], y[~mask]\n",
    "\n",
    "        criterion_diff = criterion_initial - criterion_optimized\n",
    "\n",
    "        if criterion_diff < self.minimum_criterion_diff or self._check_node_size(mask):\n",
    "            node.is_leaf = True\n",
    "            \n",
    "            if self.verbose == True:\n",
    "                print(\"=== node {} (depth {}): LEAF, value -> {}, criterion -> {} ===\".format(self.i_node, node.depth, node.value, criterion_initial))\n",
    "\n",
    "        else:\n",
    "            if self.verbose == True:\n",
    "                print(\"=== node {} (depth {}): INTERNAL, arg_div -> {}, x_div -> {}, criterion_diff -> {} ===\".format(self.i_node, node.depth, arg_div, x_div, criterion_diff))\n",
    "            \n",
    "            node.set_division(arg_div, x_div, criterion_diff)\n",
    "\n",
    "            depth_next = node.depth + 1\n",
    "            list_divided = [(X_left, y_left), (X_right, y_right)]\n",
    "            for lr, divided in enumerate(list_divided):\n",
    "                self.i_node += 1\n",
    "\n",
    "                X_i, y_i = divided\n",
    "\n",
    "                node_next = self._make_new_node(self.i_node, depth_next, y_i)\n",
    "                node.child[lr] = node_next\n",
    "\n",
    "                if depth_next == self.max_depth:\n",
    "                    node_next.is_leaf = True\n",
    "                    if self.verbose == True:\n",
    "                        print(\"=== node {} (depth {}): LEAF, value -> {}, criterion -> {} ===\".format(self.i_node, node.depth, node.value, criterion_initial))\n",
    "                elif depth_next < self.max_depth:\n",
    "                    self._go_on_dividing(X_i, y_i, node_next)\n",
    "\n",
    "    def fit(self, X, y):\n",
    "        \n",
    "        self.i_node = 0\n",
    "        self.node_tree = self._make_new_node(self.i_node, 0, y)\n",
    "        \n",
    "        self._go_on_dividing(X, y, self.node_tree)\n",
    "\n",
    "    def _pred_each_vector(self, x):\n",
    "\n",
    "        node_current = self.node_tree\n",
    "\n",
    "        while node_current.is_leaf == False:\n",
    "            division = node_current.division\n",
    "            lr = int(x[division['i_feature']] > division['threshold'])\n",
    "            node_current = node_current.child[lr]\n",
    "\n",
    "        return node_current.value\n",
    "    \n",
    "    def predict(self, X):\n",
    "        \n",
    "        return np.apply_along_axis(self._pred_each_vector, 1, X)"
   ]
  },
  {
   "cell_type": "markdown",
   "metadata": {},
   "source": [
    "#### それっぽく使ってみる"
   ]
  },
  {
   "cell_type": "code",
   "execution_count": 45,
   "metadata": {},
   "outputs": [],
   "source": [
    "from sklearn.model_selection import train_test_split"
   ]
  },
  {
   "cell_type": "code",
   "execution_count": 46,
   "metadata": {},
   "outputs": [],
   "source": [
    "boston = datasets.load_boston()"
   ]
  },
  {
   "cell_type": "code",
   "execution_count": 47,
   "metadata": {},
   "outputs": [],
   "source": [
    "X = boston.data\n",
    "y = boston.target"
   ]
  },
  {
   "cell_type": "code",
   "execution_count": 48,
   "metadata": {},
   "outputs": [],
   "source": [
    "X_train, X_test, y_train, y_test = train_test_split(X, y)"
   ]
  },
  {
   "cell_type": "code",
   "execution_count": 49,
   "metadata": {},
   "outputs": [
    {
     "data": {
      "text/plain": [
       "((127, 13), (127,))"
      ]
     },
     "execution_count": 49,
     "metadata": {},
     "output_type": "execute_result"
    }
   ],
   "source": [
    "X_test.shape, y_test.shape"
   ]
  },
  {
   "cell_type": "code",
   "execution_count": 50,
   "metadata": {},
   "outputs": [],
   "source": [
    "tree = MyTree(criterion='mse', max_depth=5, verbose=True)"
   ]
  },
  {
   "cell_type": "code",
   "execution_count": 51,
   "metadata": {},
   "outputs": [
    {
     "name": "stdout",
     "output_type": "stream",
     "text": [
      "=== node 0 (depth 0): INTERNAL, arg_div -> 5, x_div -> 6.824, criterion_diff -> 37.5582346371702 ===\n",
      "=== node 1 (depth 1): INTERNAL, arg_div -> 12, x_div -> 14.37, criterion_diff -> 16.99742966809038 ===\n",
      "=== node 2 (depth 2): INTERNAL, arg_div -> 7, x_div -> 1.3567, criterion_diff -> 15.00226297653195 ===\n",
      "=== node 3 (depth 3): LEAF, value -> 50.0, criterion -> 0.0 ===\n",
      "=== node 4 (depth 3): INTERNAL, arg_div -> 12, x_div -> 7.44, criterion_diff -> 3.696750038012386 ===\n",
      "=== node 5 (depth 4): INTERNAL, arg_div -> 9, x_div -> 265.0, criterion_diff -> 3.1094442964464895 ===\n",
      "=== node 6 (depth 4): LEAF, value -> 25.377966101694913, criterion -> 8.314260270037344 ===\n",
      "=== node 7 (depth 4): LEAF, value -> 25.377966101694913, criterion -> 8.314260270037344 ===\n",
      "=== node 8 (depth 4): INTERNAL, arg_div -> 5, x_div -> 6.096, criterion_diff -> 1.5600279141067235 ===\n",
      "=== node 9 (depth 4): LEAF, value -> 21.19851851851852, criterion -> 9.430220027434842 ===\n",
      "=== node 10 (depth 4): LEAF, value -> 21.19851851851852, criterion -> 9.430220027434842 ===\n",
      "=== node 11 (depth 2): INTERNAL, arg_div -> 0, x_div -> 6.96215, criterion_diff -> 8.397241194818205 ===\n",
      "=== node 12 (depth 3): INTERNAL, arg_div -> 4, x_div -> 0.524, criterion_diff -> 3.1123864911743695 ===\n",
      "=== node 13 (depth 4): INTERNAL, arg_div -> 7, x_div -> 5.9505, criterion_diff -> 2.8005555555555564 ===\n",
      "=== node 14 (depth 4): LEAF, value -> 20.916666666666668, criterion -> 7.6030555555555575 ===\n",
      "=== node 15 (depth 4): LEAF, value -> 20.916666666666668, criterion -> 7.6030555555555575 ===\n",
      "=== node 16 (depth 4): INTERNAL, arg_div -> 12, x_div -> 21.32, criterion_diff -> 2.61485136318685 ===\n",
      "=== node 17 (depth 4): LEAF, value -> 16.34259259259259, criterion -> 9.387630315500687 ===\n",
      "=== node 18 (depth 4): LEAF, value -> 16.34259259259259, criterion -> 9.387630315500687 ===\n",
      "=== node 19 (depth 3): INTERNAL, arg_div -> 4, x_div -> 0.668, criterion_diff -> 2.5165495867768595 ===\n",
      "=== node 20 (depth 4): INTERNAL, arg_div -> 6, x_div -> 97.3, criterion_diff -> 1.6975895316804404 ===\n",
      "=== node 21 (depth 4): LEAF, value -> 14.52727272727273, criterion -> 4.765619834710742 ===\n",
      "=== node 22 (depth 4): LEAF, value -> 14.52727272727273, criterion -> 4.765619834710742 ===\n",
      "=== node 23 (depth 4): INTERNAL, arg_div -> 12, x_div -> 19.31, criterion_diff -> 3.6550105457988966 ===\n",
      "=== node 24 (depth 4): LEAF, value -> 10.561363636363636, criterion -> 8.521461776859503 ===\n",
      "=== node 25 (depth 4): LEAF, value -> 10.561363636363636, criterion -> 8.521461776859503 ===\n",
      "=== node 26 (depth 1): INTERNAL, arg_div -> 5, x_div -> 7.42, criterion_diff -> 43.83489087301587 ===\n",
      "=== node 27 (depth 2): INTERNAL, arg_div -> 0, x_div -> 6.53876, criterion_diff -> 25.03703703703703 ===\n",
      "=== node 28 (depth 3): LEAF, value -> 33.17777777777778, criterion -> 20.347839506172836 ===\n",
      "=== node 29 (depth 3): LEAF, value -> 14.399999999999999, criterion -> 9.306666666666667 ===\n",
      "=== node 30 (depth 2): INTERNAL, arg_div -> 10, x_div -> 14.7, criterion_diff -> 11.62339332096475 ===\n",
      "=== node 31 (depth 3): LEAF, value -> 49.19, criterion -> 4.248899999999998 ===\n",
      "=== node 32 (depth 3): INTERNAL, arg_div -> 11, x_div -> 387.31, criterion_diff -> 9.3165867768595 ===\n",
      "=== node 33 (depth 4): LEAF, value -> 45.15, criterion -> 4.289166666666662 ===\n",
      "=== node 34 (depth 4): LEAF, value -> 39.02, criterion -> 8.03359999999999 ===\n"
     ]
    }
   ],
   "source": [
    "tree.fit(X_train, y_train)"
   ]
  },
  {
   "cell_type": "code",
   "execution_count": 52,
   "metadata": {},
   "outputs": [],
   "source": [
    "y_pred = tree.predict(X_test)"
   ]
  },
  {
   "cell_type": "code",
   "execution_count": 53,
   "metadata": {},
   "outputs": [
    {
     "data": {
      "text/plain": [
       "0.7113242620957975"
      ]
     },
     "execution_count": 53,
     "metadata": {},
     "output_type": "execute_result"
    }
   ],
   "source": [
    "1 - np.sum((y_test - y_pred) ** 2) / len(y_test) / y_test.var()"
   ]
  },
  {
   "cell_type": "markdown",
   "metadata": {},
   "source": [
    "#### 分類問題で使ってみる"
   ]
  },
  {
   "cell_type": "code",
   "execution_count": 54,
   "metadata": {},
   "outputs": [],
   "source": [
    "iris = datasets.load_iris()"
   ]
  },
  {
   "cell_type": "code",
   "execution_count": 55,
   "metadata": {},
   "outputs": [],
   "source": [
    "X_iris = iris.data\n",
    "y_iris = iris.target"
   ]
  },
  {
   "cell_type": "code",
   "execution_count": 56,
   "metadata": {},
   "outputs": [],
   "source": [
    "X_iris_train, X_iris_test, y_iris_train, y_iris_test = train_test_split(X_iris, y_iris)"
   ]
  },
  {
   "cell_type": "code",
   "execution_count": 57,
   "metadata": {},
   "outputs": [
    {
     "data": {
      "text/plain": [
       "((112, 4), (112,))"
      ]
     },
     "execution_count": 57,
     "metadata": {},
     "output_type": "execute_result"
    }
   ],
   "source": [
    "X_iris_train.shape, y_iris_train.shape"
   ]
  },
  {
   "cell_type": "code",
   "execution_count": 58,
   "metadata": {},
   "outputs": [
    {
     "data": {
      "text/plain": [
       "((38, 4), (38,))"
      ]
     },
     "execution_count": 58,
     "metadata": {},
     "output_type": "execute_result"
    }
   ],
   "source": [
    "X_iris_test.shape, y_iris_test.shape"
   ]
  },
  {
   "cell_type": "code",
   "execution_count": 59,
   "metadata": {},
   "outputs": [],
   "source": [
    "tree_cl = MyTree(criterion='gini', verbose=True, max_depth=3)"
   ]
  },
  {
   "cell_type": "code",
   "execution_count": 60,
   "metadata": {},
   "outputs": [
    {
     "name": "stdout",
     "output_type": "stream",
     "text": [
      "=== node 0 (depth 0): INTERNAL, arg_div -> 2, x_div -> 1.9, criterion_diff -> 0.3404629403131115 ===\n",
      "=== node 1 (depth 1): LEAF, value -> 0, criterion -> 0.0 ===\n",
      "=== node 2 (depth 1): INTERNAL, arg_div -> 3, x_div -> 1.7, criterion_diff -> 0.3792277654165438 ===\n",
      "=== node 3 (depth 2): INTERNAL, arg_div -> 2, x_div -> 4.9, criterion_diff -> 0.09996220710506418 ===\n",
      "=== node 4 (depth 2): LEAF, value -> 1, criterion -> 0.20975056689342408 ===\n",
      "=== node 5 (depth 2): LEAF, value -> 1, criterion -> 0.20975056689342408 ===\n",
      "=== node 6 (depth 2): LEAF, value -> 2, criterion -> 0.0 ===\n"
     ]
    }
   ],
   "source": [
    "tree_cl.fit(X_iris_train, y_iris_train)"
   ]
  },
  {
   "cell_type": "code",
   "execution_count": 61,
   "metadata": {},
   "outputs": [],
   "source": [
    "y_iris_pred = tree_cl.predict(X_iris_test)"
   ]
  },
  {
   "cell_type": "code",
   "execution_count": 62,
   "metadata": {},
   "outputs": [
    {
     "data": {
      "text/plain": [
       "array([1, 1, 2, 0, 0, 0, 2, 1, 0, 1, 2, 2, 0, 0, 1, 2, 0, 1, 0, 0, 1, 1,\n",
       "       2, 1, 1, 2, 2, 2, 2, 1, 2, 2, 0, 2, 1, 0, 2, 2])"
      ]
     },
     "execution_count": 62,
     "metadata": {},
     "output_type": "execute_result"
    }
   ],
   "source": [
    "y_iris_pred"
   ]
  },
  {
   "cell_type": "code",
   "execution_count": 63,
   "metadata": {},
   "outputs": [
    {
     "data": {
      "text/plain": [
       "array([1, 1, 2, 0, 0, 0, 2, 1, 0, 1, 2, 2, 0, 0, 1, 2, 0, 1, 0, 0, 1, 1,\n",
       "       2, 1, 1, 2, 2, 1, 2, 1, 2, 2, 0, 2, 1, 0, 2, 2])"
      ]
     },
     "execution_count": 63,
     "metadata": {},
     "output_type": "execute_result"
    }
   ],
   "source": [
    "y_iris_test"
   ]
  },
  {
   "cell_type": "code",
   "execution_count": 64,
   "metadata": {},
   "outputs": [
    {
     "data": {
      "text/plain": [
       "0.9736842105263158"
      ]
     },
     "execution_count": 64,
     "metadata": {},
     "output_type": "execute_result"
    }
   ],
   "source": [
    "(y_iris_pred == y_iris_test).sum() / len(y_iris_test)"
   ]
  },
  {
   "cell_type": "code",
   "execution_count": null,
   "metadata": {},
   "outputs": [],
   "source": []
  },
  {
   "cell_type": "markdown",
   "metadata": {},
   "source": [
    "## おまけ 実行速度比較\n",
    "- 左右のノードのデータ数が少ない方を計算する"
   ]
  },
  {
   "cell_type": "code",
   "execution_count": 99,
   "metadata": {},
   "outputs": [
    {
     "name": "stdout",
     "output_type": "stream",
     "text": [
      "18.9 µs ± 1.12 µs per loop (mean ± std. dev. of 7 runs, 10000 loops each)\n"
     ]
    }
   ],
   "source": [
    "%%timeit\n",
    "_, counts = np.unique(mask, return_counts=True)\n",
    "counts.min()"
   ]
  },
  {
   "cell_type": "code",
   "execution_count": 100,
   "metadata": {},
   "outputs": [
    {
     "name": "stdout",
     "output_type": "stream",
     "text": [
      "5.99 µs ± 172 ns per loop (mean ± std. dev. of 7 runs, 100000 loops each)\n"
     ]
    }
   ],
   "source": [
    "%%timeit\n",
    "min(mask.sum(), (~mask).sum())"
   ]
  },
  {
   "cell_type": "code",
   "execution_count": 101,
   "metadata": {},
   "outputs": [
    {
     "name": "stdout",
     "output_type": "stream",
     "text": [
      "3.12 µs ± 125 ns per loop (mean ± std. dev. of 7 runs, 100000 loops each)\n"
     ]
    }
   ],
   "source": [
    "%%timeit\n",
    "sum_true = mask.sum()\n",
    "min(sum_true, len(mask) - sum_true)"
   ]
  },
  {
   "cell_type": "code",
   "execution_count": null,
   "metadata": {},
   "outputs": [],
   "source": []
  }
 ],
 "metadata": {
  "kernelspec": {
   "display_name": "Python 3",
   "language": "python",
   "name": "python3"
  },
  "language_info": {
   "codemirror_mode": {
    "name": "ipython",
    "version": 3
   },
   "file_extension": ".py",
   "mimetype": "text/x-python",
   "name": "python",
   "nbconvert_exporter": "python",
   "pygments_lexer": "ipython3",
   "version": "3.7.1"
  }
 },
 "nbformat": 4,
 "nbformat_minor": 2
}
