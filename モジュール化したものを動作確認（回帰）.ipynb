{
 "cells": [
  {
   "cell_type": "code",
   "execution_count": 3,
   "metadata": {},
   "outputs": [],
   "source": [
    "%load_ext autoreload\n",
    "%autoreload 2"
   ]
  },
  {
   "cell_type": "code",
   "execution_count": 4,
   "metadata": {},
   "outputs": [],
   "source": [
    "from sklearn import datasets\n",
    "from sklearn.model_selection import train_test_split"
   ]
  },
  {
   "cell_type": "code",
   "execution_count": 5,
   "metadata": {},
   "outputs": [],
   "source": [
    "import numpy as np"
   ]
  },
  {
   "cell_type": "code",
   "execution_count": 6,
   "metadata": {},
   "outputs": [],
   "source": [
    "from tree_modules.tree_base import MyTree\n",
    "from tree_modules.random_forest import MyForest"
   ]
  },
  {
   "cell_type": "markdown",
   "metadata": {},
   "source": [
    "## データの読み込み"
   ]
  },
  {
   "cell_type": "code",
   "execution_count": 7,
   "metadata": {},
   "outputs": [],
   "source": [
    "boston = datasets.load_boston()"
   ]
  },
  {
   "cell_type": "code",
   "execution_count": 8,
   "metadata": {},
   "outputs": [],
   "source": [
    "X = boston.data\n",
    "y = boston.target"
   ]
  },
  {
   "cell_type": "code",
   "execution_count": 9,
   "metadata": {},
   "outputs": [],
   "source": [
    "X_train, X_test, y_train, y_test = train_test_split(X, y)"
   ]
  },
  {
   "cell_type": "code",
   "execution_count": 11,
   "metadata": {},
   "outputs": [
    {
     "data": {
      "text/plain": [
       "((379, 13), (379,))"
      ]
     },
     "execution_count": 11,
     "metadata": {},
     "output_type": "execute_result"
    }
   ],
   "source": [
    "X_train.shape, y_train.shape"
   ]
  },
  {
   "cell_type": "code",
   "execution_count": 10,
   "metadata": {},
   "outputs": [
    {
     "data": {
      "text/plain": [
       "((127, 13), (127,))"
      ]
     },
     "execution_count": 10,
     "metadata": {},
     "output_type": "execute_result"
    }
   ],
   "source": [
    "X_test.shape, y_test.shape"
   ]
  },
  {
   "cell_type": "markdown",
   "metadata": {},
   "source": [
    "## 決定木"
   ]
  },
  {
   "cell_type": "code",
   "execution_count": 28,
   "metadata": {},
   "outputs": [],
   "source": [
    "tree = MyTree(criterion='mse')"
   ]
  },
  {
   "cell_type": "code",
   "execution_count": 29,
   "metadata": {},
   "outputs": [],
   "source": [
    "tree.fit(X_train, y_train)\n",
    "y_pred = tree.predict(X_test)"
   ]
  },
  {
   "cell_type": "code",
   "execution_count": 30,
   "metadata": {},
   "outputs": [
    {
     "data": {
      "text/plain": [
       "array([ 9.703125  , 23.47606383, 17.10285714, 23.47606383, 21.21666667,\n",
       "       17.10285714, 15.37692308, 17.10285714, 17.10285714, 23.47606383,\n",
       "       17.10285714, 32.32368421, 17.10285714,  9.703125  , 23.47606383,\n",
       "       15.37692308, 23.47606383, 23.47606383, 23.47606383, 23.47606383,\n",
       "       23.47606383, 15.37692308, 17.10285714, 23.47606383, 21.21666667,\n",
       "       17.10285714, 23.47606383, 15.37692308, 21.21666667, 23.47606383,\n",
       "       15.37692308,  9.703125  , 23.47606383, 17.10285714, 23.47606383,\n",
       "        9.703125  , 15.37692308,  9.703125  , 23.47606383, 14.3       ,\n",
       "       23.47606383, 15.37692308,  9.703125  , 23.47606383, 23.47606383,\n",
       "       23.47606383, 44.56538462, 23.47606383, 23.47606383, 44.56538462,\n",
       "       21.21666667, 15.37692308, 23.47606383,  9.703125  , 17.10285714,\n",
       "        9.703125  , 23.47606383, 23.47606383, 17.10285714,  9.703125  ,\n",
       "       23.47606383, 23.47606383, 23.47606383, 23.47606383,  9.703125  ,\n",
       "       32.32368421, 23.47606383,  9.703125  , 23.47606383, 23.47606383,\n",
       "       17.10285714, 32.32368421, 32.32368421, 23.47606383, 15.37692308,\n",
       "       17.10285714, 23.47606383, 23.47606383, 23.47606383, 44.56538462,\n",
       "       23.47606383, 15.37692308, 44.56538462, 32.32368421, 23.47606383,\n",
       "       23.47606383, 23.47606383, 23.47606383, 23.47606383, 23.47606383,\n",
       "       23.47606383, 23.47606383, 23.47606383, 23.47606383,  9.703125  ,\n",
       "       23.47606383, 15.37692308, 32.32368421,  9.703125  , 17.10285714,\n",
       "       23.47606383, 23.47606383, 23.47606383, 23.47606383, 15.37692308,\n",
       "       23.47606383, 23.47606383, 23.47606383, 23.47606383, 23.47606383,\n",
       "       32.32368421, 23.47606383, 17.10285714, 23.47606383, 23.47606383,\n",
       "       21.21666667, 23.47606383, 23.47606383, 17.10285714, 23.47606383,\n",
       "       23.47606383, 17.10285714, 23.47606383, 32.32368421,  9.703125  ,\n",
       "       23.47606383, 23.47606383])"
      ]
     },
     "execution_count": 30,
     "metadata": {},
     "output_type": "execute_result"
    }
   ],
   "source": [
    "y_pred"
   ]
  },
  {
   "cell_type": "code",
   "execution_count": 31,
   "metadata": {},
   "outputs": [
    {
     "data": {
      "text/plain": [
       "0.7128321008554268"
      ]
     },
     "execution_count": 31,
     "metadata": {},
     "output_type": "execute_result"
    }
   ],
   "source": [
    "1 - np.sum((y_test - y_pred) ** 2) / len(y_test) / y_test.var()"
   ]
  },
  {
   "cell_type": "markdown",
   "metadata": {},
   "source": [
    "## ランダムフォレスト"
   ]
  },
  {
   "cell_type": "code",
   "execution_count": 55,
   "metadata": {},
   "outputs": [],
   "source": [
    "myrf = MyForest(criterion='mse', n_estimators=500, max_depth=5)"
   ]
  },
  {
   "cell_type": "code",
   "execution_count": 56,
   "metadata": {},
   "outputs": [],
   "source": [
    "myrf.fit(X_train, y_train)"
   ]
  },
  {
   "cell_type": "code",
   "execution_count": 57,
   "metadata": {},
   "outputs": [],
   "source": [
    "y_pred = myrf.predict(X_test)"
   ]
  },
  {
   "cell_type": "code",
   "execution_count": 58,
   "metadata": {},
   "outputs": [
    {
     "data": {
      "text/plain": [
       "array([13.42029855, 18.73728918, 21.05047052, 23.67266171, 19.30984731,\n",
       "       20.06416815, 15.33084176, 18.4593898 , 16.35475128, 23.11867811,\n",
       "       18.00362698, 31.74371963, 17.89859922, 12.33656484, 28.93191058,\n",
       "       17.52596141, 20.57126067, 20.78467798, 21.85327749, 28.30726006,\n",
       "       23.10519425, 17.55829767, 16.84654536, 20.06044958, 21.014534  ,\n",
       "       20.92063241, 28.91925506, 17.40250281, 21.15083934, 23.14996226,\n",
       "       16.49626156, 12.29295954, 26.02416649, 19.93480009, 21.06050588,\n",
       "       13.35987328, 16.4589916 , 11.86033729, 22.83566599, 16.2870943 ,\n",
       "       24.76986121, 18.13264434, 12.57332656, 21.54138933, 22.750088  ,\n",
       "       24.03926703, 41.31797149, 23.23309369, 21.94807485, 39.38565146,\n",
       "       20.17723907, 17.10860195, 24.19977674, 12.82763608, 20.58342797,\n",
       "       12.26354679, 21.37033202, 22.47485526, 16.07209923, 12.87054292,\n",
       "       21.74717918, 23.22810152, 20.33730507, 23.4460019 , 12.03803888,\n",
       "       34.84803906, 30.80399614, 12.21819071, 31.55739954, 21.19800997,\n",
       "       20.85234007, 32.66345393, 27.76029301, 19.59549392, 17.60653119,\n",
       "       20.07959429, 30.19272937, 24.57296783, 23.65082792, 37.03913452,\n",
       "       29.80380065, 17.71585753, 41.49197626, 20.3821334 , 21.55926339,\n",
       "       23.39006221, 22.39639492, 20.30585039, 21.23062546, 24.8457652 ,\n",
       "       17.90414286, 25.29680365, 19.91230088, 21.38932806, 12.25845782,\n",
       "       20.79594202, 16.64917549, 32.95771305, 11.97826712, 20.16404157,\n",
       "       20.94458441, 22.36558819, 28.76136858, 24.68767442, 17.42981648,\n",
       "       21.63604438, 20.11217416, 17.20731533, 22.47052768, 23.38598739,\n",
       "       30.17990289, 24.92969981, 17.78542528, 25.03971034, 21.08267269,\n",
       "       20.66582619, 21.58334814, 24.35765738, 20.68071049, 23.49911702,\n",
       "       23.25966762, 19.63878776, 20.47309306, 33.96365574, 12.63987724,\n",
       "       23.11700507, 21.97099841])"
      ]
     },
     "execution_count": 58,
     "metadata": {},
     "output_type": "execute_result"
    }
   ],
   "source": [
    "y_pred"
   ]
  },
  {
   "cell_type": "code",
   "execution_count": 59,
   "metadata": {
    "scrolled": true
   },
   "outputs": [
    {
     "data": {
      "text/plain": [
       "0.7469070102621117"
      ]
     },
     "execution_count": 59,
     "metadata": {},
     "output_type": "execute_result"
    }
   ],
   "source": [
    "1 - np.sum((y_test - y_pred) ** 2) / len(y_test) / y_test.var()"
   ]
  },
  {
   "cell_type": "code",
   "execution_count": null,
   "metadata": {},
   "outputs": [],
   "source": []
  }
 ],
 "metadata": {
  "kernelspec": {
   "display_name": "Python 3",
   "language": "python",
   "name": "python3"
  },
  "language_info": {
   "codemirror_mode": {
    "name": "ipython",
    "version": 3
   },
   "file_extension": ".py",
   "mimetype": "text/x-python",
   "name": "python",
   "nbconvert_exporter": "python",
   "pygments_lexer": "ipython3",
   "version": "3.7.1"
  }
 },
 "nbformat": 4,
 "nbformat_minor": 2
}
