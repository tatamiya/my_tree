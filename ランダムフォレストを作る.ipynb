{
 "cells": [
  {
   "cell_type": "code",
   "execution_count": 1,
   "metadata": {},
   "outputs": [],
   "source": [
    "%load_ext autoreload\n",
    "%autoreload 2"
   ]
  },
  {
   "cell_type": "code",
   "execution_count": 2,
   "metadata": {},
   "outputs": [],
   "source": [
    "from sklearn import datasets"
   ]
  },
  {
   "cell_type": "code",
   "execution_count": 3,
   "metadata": {},
   "outputs": [],
   "source": [
    "import numpy as np"
   ]
  },
  {
   "cell_type": "code",
   "execution_count": 4,
   "metadata": {},
   "outputs": [],
   "source": [
    "from tree_modules.tree_base import gini, node_internal, node_leaf"
   ]
  },
  {
   "cell_type": "code",
   "execution_count": 5,
   "metadata": {},
   "outputs": [],
   "source": [
    "iris = datasets.load_iris()"
   ]
  },
  {
   "cell_type": "code",
   "execution_count": 6,
   "metadata": {},
   "outputs": [],
   "source": [
    "X = iris.data\n",
    "y = iris.target"
   ]
  },
  {
   "cell_type": "markdown",
   "metadata": {},
   "source": [
    "## 森にする\n",
    "- 使うデータをresampling with replacement\n",
    "- 各ノードで使う特徴量の数をランダムで選べるようにする\n",
    "- 複数の木を作って，平均をとる\n",
    "    - 使うデータは，木ごとに変える。"
   ]
  },
  {
   "cell_type": "markdown",
   "metadata": {},
   "source": [
    "### データをresampling with replacement(復元抽出)\n",
    "- Bootstrap"
   ]
  },
  {
   "cell_type": "code",
   "execution_count": 7,
   "metadata": {},
   "outputs": [
    {
     "data": {
      "text/plain": [
       "(150, 4)"
      ]
     },
     "execution_count": 7,
     "metadata": {},
     "output_type": "execute_result"
    }
   ],
   "source": [
    "X.shape"
   ]
  },
  {
   "cell_type": "code",
   "execution_count": 8,
   "metadata": {},
   "outputs": [
    {
     "data": {
      "text/plain": [
       "150"
      ]
     },
     "execution_count": 8,
     "metadata": {},
     "output_type": "execute_result"
    }
   ],
   "source": [
    "len(y)"
   ]
  },
  {
   "cell_type": "code",
   "execution_count": 9,
   "metadata": {},
   "outputs": [],
   "source": [
    "index_resample = np.random.choice(len(y), len(y), replace=True)"
   ]
  },
  {
   "cell_type": "code",
   "execution_count": 10,
   "metadata": {},
   "outputs": [],
   "source": [
    "X_resample, y_resample = X[index_resample], y[index_resample]"
   ]
  },
  {
   "cell_type": "markdown",
   "metadata": {},
   "source": [
    "### 特徴量をランダムに選出"
   ]
  },
  {
   "cell_type": "code",
   "execution_count": 11,
   "metadata": {},
   "outputs": [],
   "source": [
    "num_features = X.shape[1]\n",
    "max_features = int(np.sqrt(num_features))"
   ]
  },
  {
   "cell_type": "code",
   "execution_count": 12,
   "metadata": {},
   "outputs": [],
   "source": [
    "index_feat_chosen = np.random.choice(num_features, max_features, replace=False)"
   ]
  },
  {
   "cell_type": "code",
   "execution_count": 13,
   "metadata": {},
   "outputs": [],
   "source": [
    "X_chosen = X_resample[:, index_feat_chosen]"
   ]
  },
  {
   "cell_type": "markdown",
   "metadata": {},
   "source": [
    "### ランダムフォレストに対応させるためにMyTreeクラスを改変\n",
    "- _go_on_dividingメソッドに特徴量ランダム選出を追加\n",
    "- パラメータを２つ追加\n",
    "    - splitter : string, 'best' or 'random' (default = 'best')\n",
    "    - max_features : int, float, or None (default = None)\n",
    "        - int : the number of features to use (if max_features <= n_features)\n",
    "        - float : the fraction of features to use (if 0 < max_features <=1.0)\n",
    "        - None : the number of features are determined as root of n_features (CAUTION different from sklearn option!)"
   ]
  },
  {
   "cell_type": "code",
   "execution_count": 14,
   "metadata": {},
   "outputs": [],
   "source": [
    "class MyTree():\n",
    "    \n",
    "    \n",
    "    def __init__(self, threshold_gini=0.05, min_node_size=5, max_depth=3,\n",
    "                 splitter='best', max_features=None,\n",
    "                 verbose=False):\n",
    "        \n",
    "        self.threshold_gini, self.min_node_size, self.max_depth = threshold_gini, min_node_size, max_depth\n",
    "        self.i_node = None\n",
    "        self.dict_nodes = None\n",
    "        \n",
    "        self.splitter = splitter # for RF\n",
    "        self.max_features = max_features # for RF\n",
    "        \n",
    "        self.verbose = verbose\n",
    "    \n",
    "    \n",
    "    def _find_optimal_division(self, x, y):\n",
    "        list_gini = []\n",
    "        x_unique = np.unique(x)\n",
    "\n",
    "        for threshold in x_unique:\n",
    "\n",
    "            mask_divide = x > threshold\n",
    "            y_right = y[mask_divide]\n",
    "            y_left = y[~mask_divide]\n",
    "\n",
    "            gini_divide = (gini(y_right) * len(y_right) + gini(y_left) * len(y_left)) / len(y)\n",
    "\n",
    "            list_gini.append(gini_divide)\n",
    "\n",
    "        array_gini = np.array(list_gini)\n",
    "        i_div_opt = np.argmin(array_gini)\n",
    "\n",
    "        return x_unique[i_div_opt], array_gini[i_div_opt]\n",
    "\n",
    "\n",
    "    def _divide(self, X, y):\n",
    "\n",
    "        results = np.apply_along_axis(self._find_optimal_division, 0, X, y)\n",
    "\n",
    "        arg_div = np.argmin(results[1])\n",
    "        x_div = results[0, arg_div]\n",
    "\n",
    "        return arg_div, x_div\n",
    "\n",
    "\n",
    "    def _go_on_dividing(self, X, y, depth=0):\n",
    "\n",
    "        depth += 1\n",
    "        \n",
    "        if self.splitter == 'best':\n",
    "            X_chosen = X\n",
    "            index_feat_chosen = np.arange(X.shape[1])\n",
    "        \n",
    "        elif self.splitter == 'random':\n",
    "            \n",
    "            n_features = X.shape[1]\n",
    "            if self.max_features is None:\n",
    "                num_feat_chosen = int(np.sqrt(n_features))\n",
    "            elif isinstance(self.max_features, int) and self.max_features>0 and self.max_features <= n_features:\n",
    "                num_feat_chosen = self.max_features\n",
    "            elif isinstance(self.max_features, float) and self.max_features>0 and self.max_features<=1.0:\n",
    "                num_feat_chosen = int(n_features * self.max_features)\n",
    "            else:\n",
    "                raise ValueError\n",
    "                \n",
    "            index_feat_chosen = np.random.choice(n_features, num_feat_chosen, replace=False)\n",
    "            X_chosen = X[:, index_feat_chosen]\n",
    "            \n",
    "        else:\n",
    "            raise ValueError\n",
    "\n",
    "        arg_div_tmp, x_div = self._divide(X_chosen, y)\n",
    "        arg_div = index_feat_chosen[arg_div_tmp] # inevitable in case of RF\n",
    "        \n",
    "        node_current = node_internal(self.i_node, depth, arg_div, x_div)\n",
    "        self.dict_nodes[self.i_node] = node_current\n",
    "        \n",
    "        if self.verbose == True:\n",
    "            print(\"=== node {} (depth {}): arg_div -> {}, x_div -> {} ===\".format(self.i_node, depth, arg_div, x_div))\n",
    "\n",
    "        mask = X[:, arg_div] > x_div\n",
    "        X_right, X_left = X[mask], X[~mask]\n",
    "        y_right, y_left = y[mask], y[~mask]\n",
    "\n",
    "        gini_left = gini(y_left)\n",
    "        gini_right = gini(y_right)\n",
    "\n",
    "        list_divided = [(X_left, y_left, gini_left), (X_right, y_right, gini_right)]\n",
    "\n",
    "        for lr, divided in enumerate(list_divided):\n",
    "            self.i_node +=1\n",
    "\n",
    "            X_i, y_i, gini_i = divided\n",
    "            if gini_i > self.threshold_gini and len(y_i)>self.min_node_size and depth+1 <= self.max_depth:\n",
    "                \n",
    "                node_current.set_node_child(lr, self.i_node)\n",
    "                self._go_on_dividing(X_i, y_i, depth=depth)\n",
    "            else:\n",
    "                node_current.set_node_child(lr, self.i_node)\n",
    "                \n",
    "                feature_majority = np.bincount(y_i).argmax()\n",
    "                \n",
    "                node_terminal = node_leaf(self.i_node, depth, feature_majority)\n",
    "                self.dict_nodes[self.i_node] = node_terminal\n",
    "                \n",
    "\n",
    "    def fit(self, X, y):\n",
    "        \n",
    "        self.i_node = 0\n",
    "        self.dict_nodes = {}\n",
    "        \n",
    "        self._go_on_dividing(X, y)\n",
    "\n",
    "\n",
    "    def _pred_each_vector(self, x):\n",
    "        \n",
    "        node_current = self.dict_nodes[0]\n",
    "        while True:\n",
    "            lr = int(x[node_current.i_feature] > node_current.threshold)\n",
    "            node_next = self.dict_nodes[node_current.node_child[lr]]\n",
    "            \n",
    "            if node_next.__class__.__name__ == 'node_leaf':\n",
    "                return node_next.k_decided\n",
    "            else:\n",
    "                node_current = node_next\n",
    "    \n",
    "    \n",
    "    def predict(self, X):\n",
    "        \n",
    "        return np.apply_along_axis(self._pred_each_vector, 1, X)"
   ]
  },
  {
   "cell_type": "markdown",
   "metadata": {},
   "source": [
    "##### 動作確認"
   ]
  },
  {
   "cell_type": "code",
   "execution_count": 15,
   "metadata": {},
   "outputs": [],
   "source": [
    "from sklearn.model_selection import train_test_split"
   ]
  },
  {
   "cell_type": "code",
   "execution_count": 16,
   "metadata": {},
   "outputs": [],
   "source": [
    "X_train, X_test, y_train, y_test = train_test_split(X, y)"
   ]
  },
  {
   "cell_type": "code",
   "execution_count": 17,
   "metadata": {},
   "outputs": [
    {
     "data": {
      "text/plain": [
       "((112, 4), (112,))"
      ]
     },
     "execution_count": 17,
     "metadata": {},
     "output_type": "execute_result"
    }
   ],
   "source": [
    "X_train.shape, y_train.shape"
   ]
  },
  {
   "cell_type": "code",
   "execution_count": 18,
   "metadata": {},
   "outputs": [
    {
     "data": {
      "text/plain": [
       "((38, 4), (38,))"
      ]
     },
     "execution_count": 18,
     "metadata": {},
     "output_type": "execute_result"
    }
   ],
   "source": [
    "X_test.shape, y_test.shape"
   ]
  },
  {
   "cell_type": "code",
   "execution_count": 19,
   "metadata": {},
   "outputs": [],
   "source": [
    "tree = MyTree(splitter='random', max_features=None, verbose=True)"
   ]
  },
  {
   "cell_type": "code",
   "execution_count": 20,
   "metadata": {},
   "outputs": [
    {
     "name": "stdout",
     "output_type": "stream",
     "text": [
      "=== node 0 (depth 1): arg_div -> 2, x_div -> 1.7 ===\n",
      "=== node 2 (depth 2): arg_div -> 3, x_div -> 1.6 ===\n",
      "=== node 3 (depth 3): arg_div -> 2, x_div -> 4.9 ===\n",
      "=== node 6 (depth 3): arg_div -> 2, x_div -> 4.8 ===\n"
     ]
    }
   ],
   "source": [
    "tree.fit(X_train, y_train)"
   ]
  },
  {
   "cell_type": "code",
   "execution_count": 21,
   "metadata": {},
   "outputs": [],
   "source": [
    "y_pred = tree.predict(X_test)"
   ]
  },
  {
   "cell_type": "code",
   "execution_count": 22,
   "metadata": {},
   "outputs": [
    {
     "data": {
      "text/plain": [
       "array([1, 1, 2, 0, 2, 1, 2, 1, 2, 1, 0, 1, 1, 2, 2, 2, 1, 1, 0, 1, 2, 2,\n",
       "       0, 2, 0, 1, 0, 0, 1, 1, 1, 0, 1, 2, 0, 2, 1, 0])"
      ]
     },
     "execution_count": 22,
     "metadata": {},
     "output_type": "execute_result"
    }
   ],
   "source": [
    "y_pred"
   ]
  },
  {
   "cell_type": "code",
   "execution_count": 23,
   "metadata": {},
   "outputs": [
    {
     "data": {
      "text/plain": [
       "array([1, 1, 2, 0, 2, 1, 2, 1, 2, 1, 0, 1, 1, 1, 2, 2, 0, 1, 0, 1, 2, 2,\n",
       "       0, 2, 0, 1, 0, 0, 0, 1, 1, 0, 1, 2, 0, 2, 1, 0])"
      ]
     },
     "execution_count": 23,
     "metadata": {},
     "output_type": "execute_result"
    }
   ],
   "source": [
    "y_test"
   ]
  },
  {
   "cell_type": "code",
   "execution_count": 24,
   "metadata": {},
   "outputs": [
    {
     "data": {
      "text/plain": [
       "0.9210526315789473"
      ]
     },
     "execution_count": 24,
     "metadata": {},
     "output_type": "execute_result"
    }
   ],
   "source": [
    "(y_pred == y_test).sum() / len(y_test)"
   ]
  },
  {
   "cell_type": "markdown",
   "metadata": {},
   "source": [
    "## 木を集めて森を作る\n",
    "- Bootstrappingも行う"
   ]
  },
  {
   "cell_type": "markdown",
   "metadata": {},
   "source": [
    "#### 学習"
   ]
  },
  {
   "cell_type": "code",
   "execution_count": 25,
   "metadata": {},
   "outputs": [],
   "source": [
    "n_estimators=10"
   ]
  },
  {
   "cell_type": "code",
   "execution_count": 26,
   "metadata": {},
   "outputs": [],
   "source": [
    "list_trees = []\n",
    "length_data = len(y)\n",
    "for i in range(0, n_estimators):\n",
    "    \n",
    "    index_resample = np.random.choice(length_data, length_data, replace=True)\n",
    "    X_resample, y_resample = X[index_resample], y[index_resample]\n",
    "    \n",
    "    a_tree = MyTree(splitter='random', max_features=None)\n",
    "    a_tree.fit(X_resample, y_resample)\n",
    "    list_trees.append(a_tree)"
   ]
  },
  {
   "cell_type": "code",
   "execution_count": 27,
   "metadata": {},
   "outputs": [
    {
     "data": {
      "text/plain": [
       "[<__main__.MyTree at 0x1222f64e0>,\n",
       " <__main__.MyTree at 0x1222e2dd8>,\n",
       " <__main__.MyTree at 0x122301748>,\n",
       " <__main__.MyTree at 0x122301b38>,\n",
       " <__main__.MyTree at 0x122301f28>,\n",
       " <__main__.MyTree at 0x122301f60>,\n",
       " <__main__.MyTree at 0x1223018d0>,\n",
       " <__main__.MyTree at 0x1222f6080>,\n",
       " <__main__.MyTree at 0x122369438>,\n",
       " <__main__.MyTree at 0x122369748>]"
      ]
     },
     "execution_count": 27,
     "metadata": {},
     "output_type": "execute_result"
    }
   ],
   "source": [
    "list_trees"
   ]
  },
  {
   "cell_type": "markdown",
   "metadata": {},
   "source": [
    "#### 予測"
   ]
  },
  {
   "cell_type": "code",
   "execution_count": 28,
   "metadata": {},
   "outputs": [],
   "source": [
    "list_pred = []\n",
    "for a_tree in list_trees:\n",
    "    \n",
    "    list_pred.append(a_tree.predict(X))\n",
    "    "
   ]
  },
  {
   "cell_type": "code",
   "execution_count": 29,
   "metadata": {},
   "outputs": [],
   "source": [
    "array_pred = np.array(list_pred)"
   ]
  },
  {
   "cell_type": "code",
   "execution_count": 30,
   "metadata": {},
   "outputs": [
    {
     "data": {
      "text/plain": [
       "array([[0, 0, 0, ..., 2, 2, 2],\n",
       "       [0, 0, 0, ..., 2, 2, 2],\n",
       "       [0, 0, 0, ..., 2, 2, 2],\n",
       "       ...,\n",
       "       [0, 0, 0, ..., 2, 2, 2],\n",
       "       [0, 0, 0, ..., 2, 2, 2],\n",
       "       [0, 0, 0, ..., 2, 2, 2]])"
      ]
     },
     "execution_count": 30,
     "metadata": {},
     "output_type": "execute_result"
    }
   ],
   "source": [
    "array_pred"
   ]
  },
  {
   "cell_type": "code",
   "execution_count": 31,
   "metadata": {},
   "outputs": [
    {
     "data": {
      "text/plain": [
       "array([0, 0, 0, 0, 0, 0, 0, 0, 0, 0])"
      ]
     },
     "execution_count": 31,
     "metadata": {},
     "output_type": "execute_result"
    }
   ],
   "source": [
    "array_pred[:,0]"
   ]
  },
  {
   "cell_type": "code",
   "execution_count": 32,
   "metadata": {},
   "outputs": [
    {
     "data": {
      "text/plain": [
       "array([10,  0,  0])"
      ]
     },
     "execution_count": 32,
     "metadata": {},
     "output_type": "execute_result"
    }
   ],
   "source": [
    "np.bincount(array_pred[:,0], minlength=3)"
   ]
  },
  {
   "cell_type": "code",
   "execution_count": 33,
   "metadata": {},
   "outputs": [],
   "source": [
    "pole_result = np.apply_along_axis(func1d=np.bincount, axis=0, arr=array_pred, minlength=3)"
   ]
  },
  {
   "cell_type": "code",
   "execution_count": 34,
   "metadata": {},
   "outputs": [
    {
     "data": {
      "text/plain": [
       "array([[10, 10, 10, 10, 10, 10, 10, 10, 10, 10, 10, 10, 10, 10, 10, 10,\n",
       "        10, 10, 10, 10, 10, 10, 10,  9, 10, 10, 10, 10, 10, 10, 10, 10,\n",
       "        10, 10, 10, 10, 10, 10, 10, 10, 10, 10, 10,  8, 10, 10, 10, 10,\n",
       "        10, 10,  0,  0,  0,  0,  0,  0,  0,  0,  0,  0,  0,  0,  0,  0,\n",
       "         0,  0,  0,  0,  0,  0,  0,  0,  0,  0,  0,  0,  0,  0,  0,  0,\n",
       "         0,  0,  0,  0,  0,  0,  0,  0,  0,  0,  0,  0,  0,  0,  0,  0,\n",
       "         0,  0,  0,  0,  0,  0,  0,  0,  0,  0,  0,  0,  0,  0,  0,  0,\n",
       "         0,  0,  0,  0,  0,  0,  0,  0,  0,  0,  0,  0,  0,  0,  0,  0,\n",
       "         0,  0,  0,  0,  0,  0,  0,  0,  0,  0,  0,  0,  0,  0,  0,  0,\n",
       "         0,  0,  0,  0,  0,  0],\n",
       "       [ 0,  0,  0,  0,  0,  0,  0,  0,  0,  0,  0,  0,  0,  0,  0,  0,\n",
       "         0,  0,  0,  0,  0,  0,  0,  1,  0,  0,  0,  0,  0,  0,  0,  0,\n",
       "         0,  0,  0,  0,  0,  0,  0,  0,  0,  0,  0,  2,  0,  0,  0,  0,\n",
       "         0,  0, 10, 10,  8, 10, 10, 10, 10,  9, 10, 10, 10, 10, 10, 10,\n",
       "        10, 10, 10, 10, 10, 10,  2, 10,  8, 10, 10, 10,  8,  5, 10, 10,\n",
       "        10, 10, 10,  6, 10, 10, 10, 10, 10, 10, 10, 10, 10, 10, 10, 10,\n",
       "        10, 10, 10, 10,  0,  1,  0,  0,  0,  0,  7,  0,  0,  0,  0,  0,\n",
       "         0,  1,  1,  0,  0,  0,  0,  6,  0,  2,  0,  2,  0,  0,  2,  1,\n",
       "         0,  3,  0,  0,  0,  6,  4,  0,  0,  0,  1,  0,  0,  0,  1,  0,\n",
       "         0,  0,  0,  0,  0,  1],\n",
       "       [ 0,  0,  0,  0,  0,  0,  0,  0,  0,  0,  0,  0,  0,  0,  0,  0,\n",
       "         0,  0,  0,  0,  0,  0,  0,  0,  0,  0,  0,  0,  0,  0,  0,  0,\n",
       "         0,  0,  0,  0,  0,  0,  0,  0,  0,  0,  0,  0,  0,  0,  0,  0,\n",
       "         0,  0,  0,  0,  2,  0,  0,  0,  0,  1,  0,  0,  0,  0,  0,  0,\n",
       "         0,  0,  0,  0,  0,  0,  8,  0,  2,  0,  0,  0,  2,  5,  0,  0,\n",
       "         0,  0,  0,  4,  0,  0,  0,  0,  0,  0,  0,  0,  0,  0,  0,  0,\n",
       "         0,  0,  0,  0, 10,  9, 10, 10, 10, 10,  3, 10, 10, 10, 10, 10,\n",
       "        10,  9,  9, 10, 10, 10, 10,  4, 10,  8, 10,  8, 10, 10,  8,  9,\n",
       "        10,  7, 10, 10, 10,  4,  6, 10, 10, 10,  9, 10, 10, 10,  9, 10,\n",
       "        10, 10, 10, 10, 10,  9]])"
      ]
     },
     "execution_count": 34,
     "metadata": {},
     "output_type": "execute_result"
    }
   ],
   "source": [
    "pole_result"
   ]
  },
  {
   "cell_type": "code",
   "execution_count": 35,
   "metadata": {},
   "outputs": [
    {
     "data": {
      "text/plain": [
       "array([0, 0, 0, 0, 0, 0, 0, 0, 0, 0, 0, 0, 0, 0, 0, 0, 0, 0, 0, 0, 0, 0,\n",
       "       0, 0, 0, 0, 0, 0, 0, 0, 0, 0, 0, 0, 0, 0, 0, 0, 0, 0, 0, 0, 0, 0,\n",
       "       0, 0, 0, 0, 0, 0, 1, 1, 1, 1, 1, 1, 1, 1, 1, 1, 1, 1, 1, 1, 1, 1,\n",
       "       1, 1, 1, 1, 2, 1, 1, 1, 1, 1, 1, 1, 1, 1, 1, 1, 1, 1, 1, 1, 1, 1,\n",
       "       1, 1, 1, 1, 1, 1, 1, 1, 1, 1, 1, 1, 2, 2, 2, 2, 2, 2, 1, 2, 2, 2,\n",
       "       2, 2, 2, 2, 2, 2, 2, 2, 2, 1, 2, 2, 2, 2, 2, 2, 2, 2, 2, 2, 2, 2,\n",
       "       2, 1, 2, 2, 2, 2, 2, 2, 2, 2, 2, 2, 2, 2, 2, 2, 2, 2])"
      ]
     },
     "execution_count": 35,
     "metadata": {},
     "output_type": "execute_result"
    }
   ],
   "source": [
    "pole_result.argmax(axis=0)"
   ]
  },
  {
   "cell_type": "code",
   "execution_count": 36,
   "metadata": {},
   "outputs": [
    {
     "data": {
      "text/plain": [
       "array([[1. , 0. , 0. ],\n",
       "       [1. , 0. , 0. ],\n",
       "       [1. , 0. , 0. ],\n",
       "       [1. , 0. , 0. ],\n",
       "       [1. , 0. , 0. ],\n",
       "       [1. , 0. , 0. ],\n",
       "       [1. , 0. , 0. ],\n",
       "       [1. , 0. , 0. ],\n",
       "       [1. , 0. , 0. ],\n",
       "       [1. , 0. , 0. ],\n",
       "       [1. , 0. , 0. ],\n",
       "       [1. , 0. , 0. ],\n",
       "       [1. , 0. , 0. ],\n",
       "       [1. , 0. , 0. ],\n",
       "       [1. , 0. , 0. ],\n",
       "       [1. , 0. , 0. ],\n",
       "       [1. , 0. , 0. ],\n",
       "       [1. , 0. , 0. ],\n",
       "       [1. , 0. , 0. ],\n",
       "       [1. , 0. , 0. ],\n",
       "       [1. , 0. , 0. ],\n",
       "       [1. , 0. , 0. ],\n",
       "       [1. , 0. , 0. ],\n",
       "       [0.9, 0.1, 0. ],\n",
       "       [1. , 0. , 0. ],\n",
       "       [1. , 0. , 0. ],\n",
       "       [1. , 0. , 0. ],\n",
       "       [1. , 0. , 0. ],\n",
       "       [1. , 0. , 0. ],\n",
       "       [1. , 0. , 0. ],\n",
       "       [1. , 0. , 0. ],\n",
       "       [1. , 0. , 0. ],\n",
       "       [1. , 0. , 0. ],\n",
       "       [1. , 0. , 0. ],\n",
       "       [1. , 0. , 0. ],\n",
       "       [1. , 0. , 0. ],\n",
       "       [1. , 0. , 0. ],\n",
       "       [1. , 0. , 0. ],\n",
       "       [1. , 0. , 0. ],\n",
       "       [1. , 0. , 0. ],\n",
       "       [1. , 0. , 0. ],\n",
       "       [1. , 0. , 0. ],\n",
       "       [1. , 0. , 0. ],\n",
       "       [0.8, 0.2, 0. ],\n",
       "       [1. , 0. , 0. ],\n",
       "       [1. , 0. , 0. ],\n",
       "       [1. , 0. , 0. ],\n",
       "       [1. , 0. , 0. ],\n",
       "       [1. , 0. , 0. ],\n",
       "       [1. , 0. , 0. ],\n",
       "       [0. , 1. , 0. ],\n",
       "       [0. , 1. , 0. ],\n",
       "       [0. , 0.8, 0.2],\n",
       "       [0. , 1. , 0. ],\n",
       "       [0. , 1. , 0. ],\n",
       "       [0. , 1. , 0. ],\n",
       "       [0. , 1. , 0. ],\n",
       "       [0. , 0.9, 0.1],\n",
       "       [0. , 1. , 0. ],\n",
       "       [0. , 1. , 0. ],\n",
       "       [0. , 1. , 0. ],\n",
       "       [0. , 1. , 0. ],\n",
       "       [0. , 1. , 0. ],\n",
       "       [0. , 1. , 0. ],\n",
       "       [0. , 1. , 0. ],\n",
       "       [0. , 1. , 0. ],\n",
       "       [0. , 1. , 0. ],\n",
       "       [0. , 1. , 0. ],\n",
       "       [0. , 1. , 0. ],\n",
       "       [0. , 1. , 0. ],\n",
       "       [0. , 0.2, 0.8],\n",
       "       [0. , 1. , 0. ],\n",
       "       [0. , 0.8, 0.2],\n",
       "       [0. , 1. , 0. ],\n",
       "       [0. , 1. , 0. ],\n",
       "       [0. , 1. , 0. ],\n",
       "       [0. , 0.8, 0.2],\n",
       "       [0. , 0.5, 0.5],\n",
       "       [0. , 1. , 0. ],\n",
       "       [0. , 1. , 0. ],\n",
       "       [0. , 1. , 0. ],\n",
       "       [0. , 1. , 0. ],\n",
       "       [0. , 1. , 0. ],\n",
       "       [0. , 0.6, 0.4],\n",
       "       [0. , 1. , 0. ],\n",
       "       [0. , 1. , 0. ],\n",
       "       [0. , 1. , 0. ],\n",
       "       [0. , 1. , 0. ],\n",
       "       [0. , 1. , 0. ],\n",
       "       [0. , 1. , 0. ],\n",
       "       [0. , 1. , 0. ],\n",
       "       [0. , 1. , 0. ],\n",
       "       [0. , 1. , 0. ],\n",
       "       [0. , 1. , 0. ],\n",
       "       [0. , 1. , 0. ],\n",
       "       [0. , 1. , 0. ],\n",
       "       [0. , 1. , 0. ],\n",
       "       [0. , 1. , 0. ],\n",
       "       [0. , 1. , 0. ],\n",
       "       [0. , 1. , 0. ],\n",
       "       [0. , 0. , 1. ],\n",
       "       [0. , 0.1, 0.9],\n",
       "       [0. , 0. , 1. ],\n",
       "       [0. , 0. , 1. ],\n",
       "       [0. , 0. , 1. ],\n",
       "       [0. , 0. , 1. ],\n",
       "       [0. , 0.7, 0.3],\n",
       "       [0. , 0. , 1. ],\n",
       "       [0. , 0. , 1. ],\n",
       "       [0. , 0. , 1. ],\n",
       "       [0. , 0. , 1. ],\n",
       "       [0. , 0. , 1. ],\n",
       "       [0. , 0. , 1. ],\n",
       "       [0. , 0.1, 0.9],\n",
       "       [0. , 0.1, 0.9],\n",
       "       [0. , 0. , 1. ],\n",
       "       [0. , 0. , 1. ],\n",
       "       [0. , 0. , 1. ],\n",
       "       [0. , 0. , 1. ],\n",
       "       [0. , 0.6, 0.4],\n",
       "       [0. , 0. , 1. ],\n",
       "       [0. , 0.2, 0.8],\n",
       "       [0. , 0. , 1. ],\n",
       "       [0. , 0.2, 0.8],\n",
       "       [0. , 0. , 1. ],\n",
       "       [0. , 0. , 1. ],\n",
       "       [0. , 0.2, 0.8],\n",
       "       [0. , 0.1, 0.9],\n",
       "       [0. , 0. , 1. ],\n",
       "       [0. , 0.3, 0.7],\n",
       "       [0. , 0. , 1. ],\n",
       "       [0. , 0. , 1. ],\n",
       "       [0. , 0. , 1. ],\n",
       "       [0. , 0.6, 0.4],\n",
       "       [0. , 0.4, 0.6],\n",
       "       [0. , 0. , 1. ],\n",
       "       [0. , 0. , 1. ],\n",
       "       [0. , 0. , 1. ],\n",
       "       [0. , 0.1, 0.9],\n",
       "       [0. , 0. , 1. ],\n",
       "       [0. , 0. , 1. ],\n",
       "       [0. , 0. , 1. ],\n",
       "       [0. , 0.1, 0.9],\n",
       "       [0. , 0. , 1. ],\n",
       "       [0. , 0. , 1. ],\n",
       "       [0. , 0. , 1. ],\n",
       "       [0. , 0. , 1. ],\n",
       "       [0. , 0. , 1. ],\n",
       "       [0. , 0. , 1. ],\n",
       "       [0. , 0.1, 0.9]])"
      ]
     },
     "execution_count": 36,
     "metadata": {},
     "output_type": "execute_result"
    }
   ],
   "source": [
    "(pole_result / n_estimators).T"
   ]
  },
  {
   "cell_type": "markdown",
   "metadata": {},
   "source": [
    "## クラスにしてまとめる"
   ]
  },
  {
   "cell_type": "code",
   "execution_count": 37,
   "metadata": {},
   "outputs": [],
   "source": [
    "class MyForest():\n",
    "    \n",
    "    def __init__(self, n_estimators=10, max_features=None,\n",
    "                 threshold_gini=0.05, min_node_size=5, max_depth=3,\n",
    "                 verbose=False):\n",
    "        \n",
    "        self.n_estimators = n_estimators\n",
    "        \n",
    "        self.threshold_gini, self.min_node_size, self.max_depth = threshold_gini, min_node_size, max_depth\n",
    "        self.verbose = verbose\n",
    "\n",
    "        self.max_features = max_features # for RF\n",
    "        \n",
    "        self.n_classes = None\n",
    "        self.list_trees = None\n",
    "        \n",
    "    \n",
    "    def fit(self, X, y):\n",
    "        \n",
    "        self.n_classes = len(np.unique(y))\n",
    "        self.list_trees = []\n",
    "        length_data = len(y)\n",
    "        \n",
    "        for i in range(0, self.n_estimators):\n",
    "            if self.verbose == True:\n",
    "                print('=== {}th tree ==='.format(i))\n",
    "    \n",
    "            index_resample = np.random.choice(length_data, length_data, replace=True)\n",
    "            X_resample, y_resample = X[index_resample], y[index_resample]\n",
    "\n",
    "            a_tree = MyTree(splitter='random', max_features=self.max_features,\n",
    "                            threshold_gini=self.threshold_gini, min_node_size=self.min_node_size, max_depth=self.max_depth,\n",
    "                            verbose=self.verbose)\n",
    "            \n",
    "            a_tree.fit(X_resample, y_resample)\n",
    "            self.list_trees.append(a_tree)\n",
    "\n",
    "    \n",
    "    def _pole(self, X, n_classes, list_trees):\n",
    "        \n",
    "        list_pred = []\n",
    "        for a_tree in list_trees:\n",
    "            list_pred.append(a_tree.predict(X))\n",
    "        \n",
    "        array_pred = np.array(list_pred)\n",
    "        \n",
    "        return np.apply_along_axis(func1d=np.bincount, axis=0, \n",
    "                                   arr=array_pred, minlength=n_classes)\n",
    "    \n",
    "    \n",
    "    def predict(self, X):\n",
    "\n",
    "        pole_result = self._pole(X, self.n_classes, self.list_trees)\n",
    "        \n",
    "        return pole_result.argmax(axis=0)\n",
    "    \n",
    "    \n",
    "    def predict_proba(self, X):\n",
    "        \n",
    "        pole_result = self._pole(X, self.n_classes, self.list_trees)\n",
    "        \n",
    "        return (pole_result / self.n_estimators).T"
   ]
  },
  {
   "cell_type": "markdown",
   "metadata": {},
   "source": [
    "#### 動作確認"
   ]
  },
  {
   "cell_type": "code",
   "execution_count": 38,
   "metadata": {},
   "outputs": [],
   "source": [
    "X_train, X_test, y_train, y_test = train_test_split(X, y)"
   ]
  },
  {
   "cell_type": "code",
   "execution_count": 39,
   "metadata": {},
   "outputs": [],
   "source": [
    "myrf = MyForest(n_estimators=100)"
   ]
  },
  {
   "cell_type": "code",
   "execution_count": 40,
   "metadata": {},
   "outputs": [],
   "source": [
    "myrf.fit(X_train, y_train)"
   ]
  },
  {
   "cell_type": "code",
   "execution_count": 41,
   "metadata": {},
   "outputs": [],
   "source": [
    "y_pred = myrf.predict(X_test)"
   ]
  },
  {
   "cell_type": "code",
   "execution_count": 42,
   "metadata": {},
   "outputs": [
    {
     "data": {
      "text/plain": [
       "array([1, 1, 2, 0, 0, 2, 0, 0, 0, 0, 0, 1, 0, 0, 2, 1, 1, 1, 1, 1, 0, 1,\n",
       "       2, 2, 2, 1, 1, 2, 2, 2, 2, 2, 2, 0, 2, 2, 2, 1])"
      ]
     },
     "execution_count": 42,
     "metadata": {},
     "output_type": "execute_result"
    }
   ],
   "source": [
    "y_pred"
   ]
  },
  {
   "cell_type": "code",
   "execution_count": 43,
   "metadata": {},
   "outputs": [
    {
     "data": {
      "text/plain": [
       "array([1, 1, 2, 0, 0, 2, 0, 0, 0, 0, 0, 2, 0, 0, 2, 1, 1, 1, 1, 1, 0, 1,\n",
       "       2, 2, 2, 2, 1, 2, 2, 2, 2, 2, 2, 0, 2, 2, 2, 1])"
      ]
     },
     "execution_count": 43,
     "metadata": {},
     "output_type": "execute_result"
    }
   ],
   "source": [
    "y_test"
   ]
  },
  {
   "cell_type": "code",
   "execution_count": 44,
   "metadata": {},
   "outputs": [
    {
     "data": {
      "text/plain": [
       "0.9473684210526315"
      ]
     },
     "execution_count": 44,
     "metadata": {},
     "output_type": "execute_result"
    }
   ],
   "source": [
    "(y_pred == y_test).sum() / len(y_test)"
   ]
  },
  {
   "cell_type": "code",
   "execution_count": 45,
   "metadata": {},
   "outputs": [
    {
     "data": {
      "text/plain": [
       "array([[0.  , 1.  , 0.  ],\n",
       "       [0.  , 1.  , 0.  ],\n",
       "       [0.  , 0.01, 0.99],\n",
       "       [1.  , 0.  , 0.  ],\n",
       "       [1.  , 0.  , 0.  ],\n",
       "       [0.  , 0.  , 1.  ],\n",
       "       [1.  , 0.  , 0.  ],\n",
       "       [1.  , 0.  , 0.  ],\n",
       "       [1.  , 0.  , 0.  ],\n",
       "       [0.99, 0.01, 0.  ],\n",
       "       [1.  , 0.  , 0.  ],\n",
       "       [0.  , 0.62, 0.38],\n",
       "       [1.  , 0.  , 0.  ],\n",
       "       [1.  , 0.  , 0.  ],\n",
       "       [0.  , 0.01, 0.99],\n",
       "       [0.  , 1.  , 0.  ],\n",
       "       [0.  , 1.  , 0.  ],\n",
       "       [0.02, 0.98, 0.  ],\n",
       "       [0.  , 0.93, 0.07],\n",
       "       [0.  , 0.99, 0.01],\n",
       "       [1.  , 0.  , 0.  ],\n",
       "       [0.  , 0.97, 0.03],\n",
       "       [0.  , 0.08, 0.92],\n",
       "       [0.  , 0.01, 0.99],\n",
       "       [0.  , 0.  , 1.  ],\n",
       "       [0.02, 0.81, 0.17],\n",
       "       [0.  , 0.86, 0.14],\n",
       "       [0.  , 0.02, 0.98],\n",
       "       [0.  , 0.02, 0.98],\n",
       "       [0.  , 0.02, 0.98],\n",
       "       [0.  , 0.01, 0.99],\n",
       "       [0.  , 0.01, 0.99],\n",
       "       [0.  , 0.02, 0.98],\n",
       "       [0.94, 0.06, 0.  ],\n",
       "       [0.  , 0.02, 0.98],\n",
       "       [0.  , 0.01, 0.99],\n",
       "       [0.  , 0.  , 1.  ],\n",
       "       [0.  , 0.84, 0.16]])"
      ]
     },
     "execution_count": 45,
     "metadata": {},
     "output_type": "execute_result"
    }
   ],
   "source": [
    "myrf.predict_proba(X_test)"
   ]
  },
  {
   "cell_type": "code",
   "execution_count": 46,
   "metadata": {},
   "outputs": [
    {
     "data": {
      "text/plain": [
       "3"
      ]
     },
     "execution_count": 46,
     "metadata": {},
     "output_type": "execute_result"
    }
   ],
   "source": [
    "myrf.n_classes"
   ]
  },
  {
   "cell_type": "code",
   "execution_count": null,
   "metadata": {},
   "outputs": [],
   "source": []
  },
  {
   "cell_type": "code",
   "execution_count": null,
   "metadata": {},
   "outputs": [],
   "source": []
  }
 ],
 "metadata": {
  "kernelspec": {
   "display_name": "Python 3",
   "language": "python",
   "name": "python3"
  },
  "language_info": {
   "codemirror_mode": {
    "name": "ipython",
    "version": 3
   },
   "file_extension": ".py",
   "mimetype": "text/x-python",
   "name": "python",
   "nbconvert_exporter": "python",
   "pygments_lexer": "ipython3",
   "version": "3.7.1"
  }
 },
 "nbformat": 4,
 "nbformat_minor": 2
}
